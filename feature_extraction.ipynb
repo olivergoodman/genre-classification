{
 "cells": [
  {
   "cell_type": "code",
   "execution_count": 1,
   "metadata": {
    "collapsed": false
   },
   "outputs": [
    {
     "name": "stderr",
     "output_type": "stream",
     "text": [
      "/Users/olivergoodman/miniconda2/envs/eecs352/lib/python2.7/site-packages/matplotlib/font_manager.py:273: UserWarning: Matplotlib is building the font cache using fc-list. This may take a moment.\n",
      "  warnings.warn('Matplotlib is building the font cache using fc-list. This may take a moment.')\n"
     ]
    }
   ],
   "source": [
    "import IPython, nussl, numpy as np, scipy as sp, matplotlib.pyplot as plt, matplotlib, sklearn, librosa, cmath,math,time,vamp\n",
    "import os,csv\n",
    "from IPython.display import Audio, display\n",
    "from scipy.fftpack import fft, ifft\n",
    " \n",
    "# This line makes sure your plots happen IN the webpage you're building, instead of in separate windows.\n",
    "%matplotlib inline"
   ]
  },
  {
   "cell_type": "markdown",
   "metadata": {},
   "source": [
    "The following functions are used to calculates a 9 dimensional vector corresponding to the musical surface features outlined section 3.1 in Tzanetazis's Automatic Musical Genre Classification Of Audio Signals. The paper can be found by following the link below:\n",
    "http://www.cs.northwestern.edu/~pardo/courses/eecs352/papers/genre%20classification%20low%20level%20-%20tzanetakis.pdf"
   ]
  },
  {
   "cell_type": "code",
   "execution_count": 2,
   "metadata": {
    "collapsed": false
   },
   "outputs": [],
   "source": [
    "def meanAndStandardDeviationCentroid(signal, sample_rate):\n",
    "    \"\"\"\n",
    "    computes the mean and standard deviation centroid, given an audio vector of an audio file\n",
    "    \"\"\"\n",
    "    centroid = vamp.collect(signal,sample_rate,'vamp-libxtract:spectral_centroid')['vector'][1]\n",
    "    mean = np.mean(centroid)\n",
    "    standard_dev = np.std(centroid)\n",
    "    return mean, standard_dev\n",
    "\n",
    "def meanAndStandardDeviationRolloff(signal, sample_rate):\n",
    "    \"\"\"\n",
    "    computes the mean and standard deviation rolloff, given an audio vector of an audio file\n",
    "    \"\"\"\n",
    "    rolloff = vamp.collect(signal,sample_rate,'vamp-libxtract:rolloff')['vector'][1]\n",
    "    \n",
    "    mean = np.mean(rolloff)\n",
    "    standard_dev = np.std(rolloff)\n",
    "    return mean, standard_dev\n",
    "    \n",
    "def zeroCrossings(signal,sample_rate):\n",
    "    \"\"\"\n",
    "    computes zero crossings value of a signal\n",
    "    \"\"\"\n",
    "    zero_crossings = vamp.collect(signal,sample_rate,'vamp-libxtract:zcr')['vector'][1]\n",
    "    \n",
    "    mean = np.mean(zero_crossings)\n",
    "    standard_dev = np.std(zero_crossings)\n",
    "    return mean,standard_dev\n",
    "\n",
    "def flux(signal,sample_rate):\n",
    "    \"\"\"\n",
    "    computes the flux of a signal\n",
    "    \"\"\"\n",
    "    flux = vamp.collect(signal,sample_rate,'bbc-vamp-plugins:bbc-spectral-flux')['vector'][1]\n",
    "    \n",
    "    mean = np.mean(flux)\n",
    "    standard_dev = np.std(flux)\n",
    "    return mean,standard_dev\n",
    "\n",
    "def low_energy(signal,sample_rate):\n",
    "    \"\"\"\n",
    "    computes the low_energy value for a signal\n",
    "    \"\"\"\n",
    "    energy = a=vamp.collect(signal,sample_rate,'bbc-vamp-plugins:bbc-energy')['vector'][1]\n",
    "    \n",
    "    mean = np.mean(energy)\n",
    "    count = 0.\n",
    "    for el in energy:\n",
    "        if el < mean:\n",
    "            count += 1\n",
    "    return count/float(len(energy))\n",
    "\n",
    "def surface_features(signal, sample_rate):\n",
    "    \"\"\"\n",
    "    Calculates a 9 dimensional vector corresponding to the musical surface features outlined in Tzanetazis's Automatic Musical Genre Classification\n",
    "    Of Audio Signals\n",
    "    \"\"\"\n",
    "    mean_centroid,std_centroid = meanAndStandardDeviationCentroid(signal, sample_rate)\n",
    "    mean_rolloff,std_rolloff = meanAndStandardDeviationRolloff(signal, sample_rate)\n",
    "    mean_zcr,std_zcr = zeroCrossings(signal, sample_rate)\n",
    "    mean_flux,std_flux = flux(signal, sample_rate)\n",
    "    low_e = low_energy(signal, sample_rate)\n",
    "    surface_features = np.array([mean_centroid,std_centroid,mean_rolloff,std_rolloff,mean_zcr,std_zcr,mean_flux,std_flux,low_e])\n",
    "    return surface_features"
   ]
  },
  {
   "cell_type": "markdown",
   "metadata": {},
   "source": [
    "The following functions are used to calculate a 8 dimensional vector corresponding to the rhythmic features outlined section 3.2 in Tzanetazis's Automatic Musical Genre Classification Of Audio Signals."
   ]
  },
  {
   "cell_type": "code",
   "execution_count": 73,
   "metadata": {
    "collapsed": false
   },
   "outputs": [],
   "source": [
    "def rhythm_features(signal,sample_rate):\n",
    "    oenv = librosa.onset.onset_strength(y=signal, sr=sample_rate)\n",
    "    tempo = estimate_tempo(oenv,sample_rate)\n",
    "    top_five_tempos, top_five_tempo_values = tempogram_analysis(signal, sample_rate)\n",
    "    tempos =  np.append(top_five_tempos, top_five_tempo_values)\n",
    "    return np.append(tempos, tempo)\n",
    "\n",
    "def estimate_tempo(oenv,sample_rate):\n",
    "    return librosa.beat.estimate_tempo(oenv,sr=sample_rate)\n",
    "\n",
    "def tempogram_analysis(signal, sample_rate, max_tempo = 320.0):\n",
    "    tempogram = librosa.feature.tempogram(y=signal, sr = sample_rate)\n",
    "    bpms = librosa.core.tempo_frequencies(tempogram.shape[0], hop_length=hop_length, sr=sr)\n",
    "    means_over_time = np.mean(tempogram, axis = 1)\n",
    "    \n",
    "    #account for max_tempo\n",
    "    if max_tempo is not None:\n",
    "        max_idx = np.argmax(bpms < max_tempo)\n",
    "        means_over_time[:max_idx] = 0\n",
    "    \n",
    "    top_five_tempos = np.argpartition(means_over_time, -3)[-3:-1]\n",
    "    top_five_tempo_values = means_over_time[top_five_tempos]\n",
    "    return bpms[top_five_tempos], top_five_tempo_values"
   ]
  },
  {
   "cell_type": "code",
   "execution_count": 55,
   "metadata": {
    "collapsed": true
   },
   "outputs": [],
   "source": [
    "## given an audio file, computes a feature vector \n",
    "def make_feature_vector(file_path, sample_rate):\n",
    "    signal, sr = librosa.load(path=file_path, sr=sample_rate)\n",
    "    s_f = surface_features(signal, sr)\n",
    "    r_f = rhythm_features(signal, sr)\n",
    "    genre_name = file_path.split('/')[-1].split('.')[0]\n",
    "    \n",
    "    feature_vector = np.concatenate((s_f, r_f, np.array([genre_name])))\n",
    "    return feature_vector\n",
    "    "
   ]
  },
  {
   "cell_type": "code",
   "execution_count": 84,
   "metadata": {
    "collapsed": true
   },
   "outputs": [],
   "source": [
    "def create_datasets(sample_rate):\n",
    "    dirs = ['datasets/genres','datasets/genres-hpss','datasets/genres-repet']\n",
    "    types = [['control'],['percussive','harmonic'],['foreground','background']]\n",
    "    genres = [d for d in os.listdir('datasets/genres') if os.path.isdir(os.path.join('datasets/genres', d))]\n",
    "    if not os.path.exists('features'):\n",
    "        os.makedirs('features')\n",
    "    for index, directory in enumerate(dirs):\n",
    "        for separated_type in types[index]:\n",
    "            csv_name = 'features/control.csv' if separated_type == \"control\" else 'features/' + directory.split('-')[1] + '_' + separated_type + '.csv'\n",
    "            create_dataset(sample_rate, directory, csv_name,genres, separated_type)\n",
    "    return\n",
    "                    \n",
    "def create_dataset(sample_rate, directory, csv_name, genres, separated_type = \"control\", num_files = 100):\n",
    "    print \"Creating Dataset from directory: \" + directory + \" of type: \" + separated_type\n",
    "    features = []\n",
    "    for genre in genres:\n",
    "        for n in np.arange(num_files):\n",
    "            num = str(n) if n > 9  else '0' + str(n)\n",
    "            file_name = genre +'.000'+num +'.au' if separated_type == \"control\" else genre+'.'+ separated_type +'.000' + num +'.au'\n",
    "            path = directory + '/' + genre + '/' + file_name\n",
    "            features.append(make_feature_vector(path, sample_rate))\n",
    "    \n",
    "    with open(csv_name,'wb') as csvfile:\n",
    "        writer = csv.writer(csvfile)\n",
    "        writer.writerow(['mean_centroid','std_centroid','mean_rolloff','std_rolloff','mean_zcr','std_zcr','mean_flux','std_flux','low_e','bpm_second', 'bpm_first', 'tempo_strength_second', 'tempo_strength_first', 'estimated_tempo', 'genre'])\n",
    "\n",
    "        for row in features:\n",
    "            writer.writerow(row)\n",
    "    print \"Finished Writing CSV: \" + csv_name\n",
    "    return"
   ]
  },
  {
   "cell_type": "markdown",
   "metadata": {},
   "source": [
    "Run the following code to create a csv file of extracted audio features"
   ]
  },
  {
   "cell_type": "code",
   "execution_count": null,
   "metadata": {
    "collapsed": false
   },
   "outputs": [
    {
     "name": "stdout",
     "output_type": "stream",
     "text": [
      "Creating Dataset from directory: datasets/genres of type: control\n"
     ]
    }
   ],
   "source": [
    "sr = 11025\n",
    "# create_dataset(sr, \"datasets/genres-hpss\", \"features/test.csv\", [\"blues\", \"metal\", \"rock\"], separated_type = 'harmonic', num_files = 2)\n",
    "create_datasets(sr)"
   ]
  },
  {
   "cell_type": "markdown",
   "metadata": {},
   "source": [
    "Testing stuff below:"
   ]
  },
  {
   "cell_type": "code",
   "execution_count": 9,
   "metadata": {
    "collapsed": false
   },
   "outputs": [],
   "source": [
    "#Variables used in testing\n",
    "\n",
    "n_fft = 2048\n",
    "hop_length = 512\n",
    "sr = 11025\n",
    "\n",
    "# test signals\n",
    "signal0, sr = librosa.load(path='datasets/genres/blues/blues.00000.au', sr=sr)\n",
    "signal1, sr = librosa.load(path='datasets/genres/blues/blues.00001.au', sr=sr)\n",
    "background0, sr = librosa.load(path='datasets/genres-repet/blues/blues.background.00000.au', sr=sr)\n",
    "background1, sr = librosa.load(path='datasets/genres-repet/blues/blues.background.00001.au', sr=sr)\n",
    "foreground0, sr = librosa.load(path='datasets/genres-repet/blues/blues.foreground.00000.au', sr=sr)\n",
    "foreground1, sr = librosa.load(path='datasets/genres-repet/blues/blues.foreground.00001.au', sr=sr)\n",
    "harmonic0, sr = librosa.load(path='datasets/genres-hpss/blues/blues.harmonic.00000.au', sr=sr)\n",
    "harmonic1, sr = librosa.load(path='datasets/genres-hpss/blues/blues.harmonic.00001.au', sr=sr)\n",
    "percussive0, sr = librosa.load(path='datasets/genres-hpss/blues/blues.percussive.00000.au', sr=sr)\n",
    "percussive1, sr = librosa.load(path='datasets/genres-hpss/blues/blues.percussive.00001.au', sr=sr)"
   ]
  },
  {
   "cell_type": "code",
   "execution_count": null,
   "metadata": {
    "collapsed": true
   },
   "outputs": [],
   "source": []
  }
 ],
 "metadata": {
  "kernelspec": {
   "display_name": "Python 2",
   "language": "python",
   "name": "python2"
  },
  "language_info": {
   "codemirror_mode": {
    "name": "ipython",
    "version": 2
   },
   "file_extension": ".py",
   "mimetype": "text/x-python",
   "name": "python",
   "nbconvert_exporter": "python",
   "pygments_lexer": "ipython2",
   "version": "2.7.13"
  }
 },
 "nbformat": 4,
 "nbformat_minor": 2
}
