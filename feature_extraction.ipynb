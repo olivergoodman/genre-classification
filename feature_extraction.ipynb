{
 "cells": [
  {
   "cell_type": "code",
   "execution_count": 2,
   "metadata": {
    "collapsed": false
   },
   "outputs": [],
   "source": [
    "import IPython, nussl, numpy as np, scipy as sp, matplotlib.pyplot as plt, matplotlib, sklearn, librosa, cmath,math,time,vamp\n",
    "import os,csv\n",
    "from IPython.display import Audio, display\n",
    "from scipy.fftpack import fft, ifft\n",
    " \n",
    "# This line makes sure your plots happen IN the webpage you're building, instead of in separate windows.\n",
    "%matplotlib inline"
   ]
  },
  {
   "cell_type": "markdown",
   "metadata": {},
   "source": [
    "The following functions are used to calculates a 9 dimensional vector corresponding to the musical surface features outlined section 3.1 in Tzanetazis's Automatic Musical Genre Classification Of Audio Signals. The paper can be found by following the link below:\n",
    "http://www.cs.northwestern.edu/~pardo/courses/eecs352/papers/genre%20classification%20low%20level%20-%20tzanetakis.pdf"
   ]
  },
  {
   "cell_type": "code",
   "execution_count": 3,
   "metadata": {
    "collapsed": false
   },
   "outputs": [],
   "source": [
    "def meanAndStandardDeviationCentroid(signal, sample_rate):\n",
    "    \"\"\"\n",
    "    computes the mean and standard deviation centroid, given an audio vector of an audio file\n",
    "    \"\"\"\n",
    "    centroid = vamp.collect(signal,sample_rate,'vamp-libxtract:spectral_centroid')['vector'][1]\n",
    "    mean = np.mean(centroid)\n",
    "    standard_dev = np.std(centroid)\n",
    "    return mean, standard_dev\n",
    "\n",
    "def meanAndStandardDeviationRolloff(signal, sample_rate):\n",
    "    \"\"\"\n",
    "    computes the mean and standard deviation rolloff, given an audio vector of an audio file\n",
    "    \"\"\"\n",
    "    rolloff = vamp.collect(signal,sample_rate,'vamp-libxtract:rolloff')['vector'][1]\n",
    "    \n",
    "    mean = np.mean(rolloff)\n",
    "    standard_dev = np.std(rolloff)\n",
    "    return mean, standard_dev\n",
    "    \n",
    "def zeroCrossings(signal,sample_rate):\n",
    "    \"\"\"\n",
    "    computes zero crossings value of a signal\n",
    "    \"\"\"\n",
    "    zero_crossings = vamp.collect(signal,sample_rate,'vamp-libxtract:zcr')['vector'][1]\n",
    "    \n",
    "    mean = np.mean(zero_crossings)\n",
    "    standard_dev = np.std(zero_crossings)\n",
    "    return mean,standard_dev\n",
    "\n",
    "def flux(signal,sample_rate):\n",
    "    \"\"\"\n",
    "    computes the flux of a signal\n",
    "    \"\"\"\n",
    "    flux = vamp.collect(signal,sample_rate,'bbc-vamp-plugins:bbc-spectral-flux')['vector'][1]\n",
    "    \n",
    "    mean = np.mean(flux)\n",
    "    standard_dev = np.std(flux)\n",
    "    return mean,standard_dev\n",
    "\n",
    "def low_energy(signal,sample_rate):\n",
    "    \"\"\"\n",
    "    computes the low_energy value for a signal\n",
    "    \"\"\"\n",
    "    energy = a=vamp.collect(signal,sample_rate,'bbc-vamp-plugins:bbc-energy')['vector'][1]\n",
    "    \n",
    "    mean = np.mean(energy)\n",
    "    count = 0.\n",
    "    for el in energy:\n",
    "        if el < mean:\n",
    "            count += 1\n",
    "    return count/float(len(energy))\n",
    "\n",
    "def surface_features(signal, sample_rate):\n",
    "    \"\"\"\n",
    "    Calculates a 9 dimensional vector corresponding to the musical surface features outlined in Tzanetazis's Automatic Musical Genre Classification\n",
    "    Of Audio Signals\n",
    "    \"\"\"\n",
    "    mean_centroid,std_centroid = meanAndStandardDeviationCentroid(signal, sample_rate)\n",
    "    mean_rolloff,std_rolloff = meanAndStandardDeviationRolloff(signal, sample_rate)\n",
    "    mean_zcr,std_zcr = zeroCrossings(signal, sample_rate)\n",
    "    mean_flux,std_flux = flux(signal, sample_rate)\n",
    "    low_e = low_energy(signal, sample_rate)\n",
    "    surface_features = np.array([mean_centroid,std_centroid,mean_rolloff,std_rolloff,mean_zcr,std_zcr,mean_flux,std_flux,low_e])\n",
    "    return surface_features"
   ]
  },
  {
   "cell_type": "markdown",
   "metadata": {},
   "source": [
    "The following functions are used to calculate a 8 dimensional vector corresponding to the rhythmic features outlined section 3.2 in Tzanetazis's Automatic Musical Genre Classification Of Audio Signals."
   ]
  },
  {
   "cell_type": "code",
   "execution_count": 4,
   "metadata": {
    "collapsed": false
   },
   "outputs": [],
   "source": [
    "def rhythm_features(signal,sample_rate):\n",
    "    oenv = librosa.onset.onset_strength(y=signal, sr=sample_rate)\n",
    "    tempo = estimate_tempo(oenv,sample_rate)\n",
    "    top_five_tempos, top_five_tempo_values = tempogram_analysis(signal, sample_rate)\n",
    "    tempos =  np.append(top_five_tempos, top_five_tempo_values)\n",
    "    return np.append(tempos, tempo)\n",
    "\n",
    "def estimate_tempo(oenv,sample_rate):\n",
    "    return librosa.beat.estimate_tempo(oenv,sr=sample_rate)\n",
    "\n",
    "def tempogram_analysis(signal, sample_rate):\n",
    "    tempogram = librosa.feature.tempogram(y=signal, sr = sample_rate)\n",
    "    #take out bpm of zero\n",
    "    means_over_time = np.mean(tempogram[1:], axis = 1)\n",
    "    top_five_tempos = np.argpartition(means_over_time, -5)[-5:]\n",
    "    top_five_tempo_values = means_over_time[top_five_tempos]\n",
    "    return top_five_tempos, top_five_tempo_values"
   ]
  },
  {
   "cell_type": "code",
   "execution_count": 5,
   "metadata": {
    "collapsed": true
   },
   "outputs": [],
   "source": [
    "## given an audio file, computes a feature vector \n",
    "def make_feature_vector(file_path, sample_rate):\n",
    "    signal, sr = librosa.load(path=file_path, sr=sample_rate)\n",
    "    s_f = surface_features(signal, sr)\n",
    "    r_f = rhythm_features(signal, sr)\n",
    "    genre_name = file_path.split('/')[-1].split('.')[0]\n",
    "    \n",
    "    feature_vector = np.concatenate((s_f, r_f, np.array([genre_name])))\n",
    "    return feature_vector\n",
    "    "
   ]
  },
  {
   "cell_type": "code",
   "execution_count": 28,
   "metadata": {
    "collapsed": true
   },
   "outputs": [],
   "source": [
    "def create_datasets(sample_rate):\n",
    "    dirs = ['datasets/genres','datasets/genres-hpss','datasets/genres-repet']\n",
    "    types = [['control']['percussive','harmonic'],['foreground','background']]\n",
    "    genres = [d for d in os.listdir('datasets/genres') if os.path.isdir(os.path.join('datasets/genres', d))]\n",
    "    if not os.path.exists('features'):\n",
    "        os.makedirs('features')\n",
    "    for index, directory in enumerate(dirs):\n",
    "        for separated_type in types[index]:\n",
    "            csv_name = 'features/control.csv' if separated_type == \"control\" else 'features/' + directory.split('-')[1] + '_' + separated_type + '.csv'\n",
    "            create_dataset(sample_rate, directory, csv_name,genres, separated_type)\n",
    "    return\n",
    "                    \n",
    "def create_dataset(sample_rate, directory, csv_name, genres, separated_type = \"control\", num_files = 100):\n",
    "    print \"Creating Dataset from directory: \" + directory + \" of type: \" + separated_type\n",
    "    features = []\n",
    "    for genre in genres:\n",
    "        for n in np.arange(num_files):\n",
    "            num = str(n) if n > 9  else '0' + str(n)\n",
    "            file_name = genre +'.000'+num +'.au' if separated_type == \"control\" else genre+'.'+ separated_type +'.000' + num +'.au'\n",
    "            path = directory + '/' + genre + '/' + file_name\n",
    "            features.append(make_feature_vector(path, sample_rate))\n",
    "    \n",
    "    with open(csv_name,'wb') as csvfile:\n",
    "        writer = csv.writer(csvfile)\n",
    "        for row in features:\n",
    "            writer.writerow(row)\n",
    "    return"
   ]
  },
  {
   "cell_type": "markdown",
   "metadata": {},
   "source": [
    "Run the following code to create a csv file of extracted audio features"
   ]
  },
  {
   "cell_type": "code",
   "execution_count": 31,
   "metadata": {
    "collapsed": false
   },
   "outputs": [
    {
     "name": "stdout",
     "output_type": "stream",
     "text": [
      "Creating Dataset from directory: datasets/genres of type: control\n"
     ]
    },
    {
     "ename": "TypeError",
     "evalue": "Failed to load plugin: vamp-libxtract:spectral_centroid",
     "output_type": "error",
     "traceback": [
      "\u001b[0;31m---------------------------------------------------------------------------\u001b[0m",
      "\u001b[0;31mTypeError\u001b[0m                                 Traceback (most recent call last)",
      "\u001b[0;32m<ipython-input-31-bac7e79498c1>\u001b[0m in \u001b[0;36m<module>\u001b[0;34m()\u001b[0m\n\u001b[1;32m      1\u001b[0m \u001b[0msr\u001b[0m \u001b[1;33m=\u001b[0m \u001b[1;36m11025\u001b[0m\u001b[1;33m\u001b[0m\u001b[0m\n\u001b[0;32m----> 2\u001b[0;31m \u001b[0mcreate_dataset\u001b[0m\u001b[1;33m(\u001b[0m\u001b[0msr\u001b[0m\u001b[1;33m,\u001b[0m \u001b[1;34m\"datasets/genres\"\u001b[0m\u001b[1;33m,\u001b[0m \u001b[1;34m\"features/test.csv\"\u001b[0m\u001b[1;33m,\u001b[0m \u001b[1;33m[\u001b[0m\u001b[1;34m\"blues\"\u001b[0m\u001b[1;33m,\u001b[0m \u001b[1;34m\"metal\"\u001b[0m\u001b[1;33m,\u001b[0m \u001b[1;34m\"rock\"\u001b[0m\u001b[1;33m]\u001b[0m\u001b[1;33m,\u001b[0m \u001b[0mnum_files\u001b[0m \u001b[1;33m=\u001b[0m \u001b[1;36m2\u001b[0m\u001b[1;33m)\u001b[0m\u001b[1;33m\u001b[0m\u001b[0m\n\u001b[0m",
      "\u001b[0;32m<ipython-input-28-9484e63b4ed7>\u001b[0m in \u001b[0;36mcreate_dataset\u001b[0;34m(sample_rate, directory, csv_name, genres, separated_type, num_files)\u001b[0m\n\u001b[1;32m     19\u001b[0m             \u001b[0mfile_name\u001b[0m \u001b[1;33m=\u001b[0m \u001b[0mgenre\u001b[0m \u001b[1;33m+\u001b[0m\u001b[1;34m'.000'\u001b[0m\u001b[1;33m+\u001b[0m\u001b[0mnum\u001b[0m \u001b[1;33m+\u001b[0m\u001b[1;34m'.au'\u001b[0m \u001b[1;32mif\u001b[0m \u001b[0mseparated_type\u001b[0m \u001b[1;33m==\u001b[0m \u001b[1;34m\"control\"\u001b[0m \u001b[1;32melse\u001b[0m \u001b[0mgenre\u001b[0m\u001b[1;33m+\u001b[0m\u001b[1;34m'.'\u001b[0m\u001b[1;33m+\u001b[0m \u001b[0mseparated_type\u001b[0m \u001b[1;33m+\u001b[0m\u001b[1;34m'.000'\u001b[0m \u001b[1;33m+\u001b[0m \u001b[0mnum\u001b[0m \u001b[1;33m+\u001b[0m\u001b[1;34m'.au'\u001b[0m\u001b[1;33m\u001b[0m\u001b[0m\n\u001b[1;32m     20\u001b[0m             \u001b[0mpath\u001b[0m \u001b[1;33m=\u001b[0m \u001b[0mdirectory\u001b[0m \u001b[1;33m+\u001b[0m \u001b[1;34m'/'\u001b[0m \u001b[1;33m+\u001b[0m \u001b[0mgenre\u001b[0m \u001b[1;33m+\u001b[0m \u001b[1;34m'/'\u001b[0m \u001b[1;33m+\u001b[0m \u001b[0mfile_name\u001b[0m\u001b[1;33m\u001b[0m\u001b[0m\n\u001b[0;32m---> 21\u001b[0;31m             \u001b[0mfeatures\u001b[0m\u001b[1;33m.\u001b[0m\u001b[0mappend\u001b[0m\u001b[1;33m(\u001b[0m\u001b[0mmake_feature_vector\u001b[0m\u001b[1;33m(\u001b[0m\u001b[0mpath\u001b[0m\u001b[1;33m,\u001b[0m \u001b[0msample_rate\u001b[0m\u001b[1;33m)\u001b[0m\u001b[1;33m)\u001b[0m\u001b[1;33m\u001b[0m\u001b[0m\n\u001b[0m\u001b[1;32m     22\u001b[0m \u001b[1;33m\u001b[0m\u001b[0m\n\u001b[1;32m     23\u001b[0m     \u001b[1;32mwith\u001b[0m \u001b[0mopen\u001b[0m\u001b[1;33m(\u001b[0m\u001b[0mcsv_name\u001b[0m\u001b[1;33m,\u001b[0m\u001b[1;34m'wb'\u001b[0m\u001b[1;33m)\u001b[0m \u001b[1;32mas\u001b[0m \u001b[0mcsvfile\u001b[0m\u001b[1;33m:\u001b[0m\u001b[1;33m\u001b[0m\u001b[0m\n",
      "\u001b[0;32m<ipython-input-5-38d223a70f78>\u001b[0m in \u001b[0;36mmake_feature_vector\u001b[0;34m(file_path, sample_rate)\u001b[0m\n\u001b[1;32m      2\u001b[0m \u001b[1;32mdef\u001b[0m \u001b[0mmake_feature_vector\u001b[0m\u001b[1;33m(\u001b[0m\u001b[0mfile_path\u001b[0m\u001b[1;33m,\u001b[0m \u001b[0msample_rate\u001b[0m\u001b[1;33m)\u001b[0m\u001b[1;33m:\u001b[0m\u001b[1;33m\u001b[0m\u001b[0m\n\u001b[1;32m      3\u001b[0m     \u001b[0msignal\u001b[0m\u001b[1;33m,\u001b[0m \u001b[0msr\u001b[0m \u001b[1;33m=\u001b[0m \u001b[0mlibrosa\u001b[0m\u001b[1;33m.\u001b[0m\u001b[0mload\u001b[0m\u001b[1;33m(\u001b[0m\u001b[0mpath\u001b[0m\u001b[1;33m=\u001b[0m\u001b[0mfile_path\u001b[0m\u001b[1;33m,\u001b[0m \u001b[0msr\u001b[0m\u001b[1;33m=\u001b[0m\u001b[0msample_rate\u001b[0m\u001b[1;33m)\u001b[0m\u001b[1;33m\u001b[0m\u001b[0m\n\u001b[0;32m----> 4\u001b[0;31m     \u001b[0ms_f\u001b[0m \u001b[1;33m=\u001b[0m \u001b[0msurface_features\u001b[0m\u001b[1;33m(\u001b[0m\u001b[0msignal\u001b[0m\u001b[1;33m,\u001b[0m \u001b[0msr\u001b[0m\u001b[1;33m)\u001b[0m\u001b[1;33m\u001b[0m\u001b[0m\n\u001b[0m\u001b[1;32m      5\u001b[0m     \u001b[0mr_f\u001b[0m \u001b[1;33m=\u001b[0m \u001b[0mrhythm_features\u001b[0m\u001b[1;33m(\u001b[0m\u001b[0msignal\u001b[0m\u001b[1;33m,\u001b[0m \u001b[0msr\u001b[0m\u001b[1;33m)\u001b[0m\u001b[1;33m\u001b[0m\u001b[0m\n\u001b[1;32m      6\u001b[0m     \u001b[0mgenre_name\u001b[0m \u001b[1;33m=\u001b[0m \u001b[0mfile_path\u001b[0m\u001b[1;33m.\u001b[0m\u001b[0msplit\u001b[0m\u001b[1;33m(\u001b[0m\u001b[1;34m'/'\u001b[0m\u001b[1;33m)\u001b[0m\u001b[1;33m[\u001b[0m\u001b[1;33m-\u001b[0m\u001b[1;36m1\u001b[0m\u001b[1;33m]\u001b[0m\u001b[1;33m.\u001b[0m\u001b[0msplit\u001b[0m\u001b[1;33m(\u001b[0m\u001b[1;34m'.'\u001b[0m\u001b[1;33m)\u001b[0m\u001b[1;33m[\u001b[0m\u001b[1;36m0\u001b[0m\u001b[1;33m]\u001b[0m\u001b[1;33m\u001b[0m\u001b[0m\n",
      "\u001b[0;32m<ipython-input-3-28ca34199db0>\u001b[0m in \u001b[0;36msurface_features\u001b[0;34m(signal, sample_rate)\u001b[0m\n\u001b[1;32m     56\u001b[0m     \u001b[0mOf\u001b[0m \u001b[0mAudio\u001b[0m \u001b[0mSignals\u001b[0m\u001b[1;33m\u001b[0m\u001b[0m\n\u001b[1;32m     57\u001b[0m     \"\"\"\n\u001b[0;32m---> 58\u001b[0;31m     \u001b[0mmean_centroid\u001b[0m\u001b[1;33m,\u001b[0m\u001b[0mstd_centroid\u001b[0m \u001b[1;33m=\u001b[0m \u001b[0mmeanAndStandardDeviationCentroid\u001b[0m\u001b[1;33m(\u001b[0m\u001b[0msignal\u001b[0m\u001b[1;33m,\u001b[0m \u001b[0msample_rate\u001b[0m\u001b[1;33m)\u001b[0m\u001b[1;33m\u001b[0m\u001b[0m\n\u001b[0m\u001b[1;32m     59\u001b[0m     \u001b[0mmean_rolloff\u001b[0m\u001b[1;33m,\u001b[0m\u001b[0mstd_rolloff\u001b[0m \u001b[1;33m=\u001b[0m \u001b[0mmeanAndStandardDeviationRolloff\u001b[0m\u001b[1;33m(\u001b[0m\u001b[0msignal\u001b[0m\u001b[1;33m,\u001b[0m \u001b[0msample_rate\u001b[0m\u001b[1;33m)\u001b[0m\u001b[1;33m\u001b[0m\u001b[0m\n\u001b[1;32m     60\u001b[0m     \u001b[0mmean_zcr\u001b[0m\u001b[1;33m,\u001b[0m\u001b[0mstd_zcr\u001b[0m \u001b[1;33m=\u001b[0m \u001b[0mzeroCrossings\u001b[0m\u001b[1;33m(\u001b[0m\u001b[0msignal\u001b[0m\u001b[1;33m,\u001b[0m \u001b[0msample_rate\u001b[0m\u001b[1;33m)\u001b[0m\u001b[1;33m\u001b[0m\u001b[0m\n",
      "\u001b[0;32m<ipython-input-3-28ca34199db0>\u001b[0m in \u001b[0;36mmeanAndStandardDeviationCentroid\u001b[0;34m(signal, sample_rate)\u001b[0m\n\u001b[1;32m      3\u001b[0m     \u001b[0mcomputes\u001b[0m \u001b[0mthe\u001b[0m \u001b[0mmean\u001b[0m \u001b[1;32mand\u001b[0m \u001b[0mstandard\u001b[0m \u001b[0mdeviation\u001b[0m \u001b[0mcentroid\u001b[0m\u001b[1;33m,\u001b[0m \u001b[0mgiven\u001b[0m \u001b[0man\u001b[0m \u001b[0maudio\u001b[0m \u001b[0mvector\u001b[0m \u001b[0mof\u001b[0m \u001b[0man\u001b[0m \u001b[0maudio\u001b[0m \u001b[0mfile\u001b[0m\u001b[1;33m\u001b[0m\u001b[0m\n\u001b[1;32m      4\u001b[0m     \"\"\"\n\u001b[0;32m----> 5\u001b[0;31m     \u001b[0mcentroid\u001b[0m \u001b[1;33m=\u001b[0m \u001b[0mvamp\u001b[0m\u001b[1;33m.\u001b[0m\u001b[0mcollect\u001b[0m\u001b[1;33m(\u001b[0m\u001b[0msignal\u001b[0m\u001b[1;33m,\u001b[0m\u001b[0msample_rate\u001b[0m\u001b[1;33m,\u001b[0m\u001b[1;34m'vamp-libxtract:spectral_centroid'\u001b[0m\u001b[1;33m)\u001b[0m\u001b[1;33m[\u001b[0m\u001b[1;34m'vector'\u001b[0m\u001b[1;33m]\u001b[0m\u001b[1;33m[\u001b[0m\u001b[1;36m1\u001b[0m\u001b[1;33m]\u001b[0m\u001b[1;33m\u001b[0m\u001b[0m\n\u001b[0m\u001b[1;32m      6\u001b[0m     \u001b[0mmean\u001b[0m \u001b[1;33m=\u001b[0m \u001b[0mnp\u001b[0m\u001b[1;33m.\u001b[0m\u001b[0mmean\u001b[0m\u001b[1;33m(\u001b[0m\u001b[0mcentroid\u001b[0m\u001b[1;33m)\u001b[0m\u001b[1;33m\u001b[0m\u001b[0m\n\u001b[1;32m      7\u001b[0m     \u001b[0mstandard_dev\u001b[0m \u001b[1;33m=\u001b[0m \u001b[0mnp\u001b[0m\u001b[1;33m.\u001b[0m\u001b[0mstd\u001b[0m\u001b[1;33m(\u001b[0m\u001b[0mcentroid\u001b[0m\u001b[1;33m)\u001b[0m\u001b[1;33m\u001b[0m\u001b[0m\n",
      "\u001b[0;32mC:\\Users\\djper\\Miniconda2\\envs\\eecs352\\lib\\site-packages\\vamp\\collect.pyc\u001b[0m in \u001b[0;36mcollect\u001b[0;34m(data, sample_rate, plugin_key, output, parameters, **kwargs)\u001b[0m\n\u001b[1;32m    164\u001b[0m     \"\"\"\n\u001b[1;32m    165\u001b[0m \u001b[1;33m\u001b[0m\u001b[0m\n\u001b[0;32m--> 166\u001b[0;31m     \u001b[0mplugin\u001b[0m\u001b[1;33m,\u001b[0m \u001b[0mstep_size\u001b[0m\u001b[1;33m,\u001b[0m \u001b[0mblock_size\u001b[0m \u001b[1;33m=\u001b[0m \u001b[0mvamp\u001b[0m\u001b[1;33m.\u001b[0m\u001b[0mload\u001b[0m\u001b[1;33m.\u001b[0m\u001b[0mload_and_configure\u001b[0m\u001b[1;33m(\u001b[0m\u001b[0mdata\u001b[0m\u001b[1;33m,\u001b[0m \u001b[0msample_rate\u001b[0m\u001b[1;33m,\u001b[0m \u001b[0mplugin_key\u001b[0m\u001b[1;33m,\u001b[0m \u001b[0mparameters\u001b[0m\u001b[1;33m,\u001b[0m \u001b[1;33m**\u001b[0m\u001b[0mkwargs\u001b[0m\u001b[1;33m)\u001b[0m\u001b[1;33m\u001b[0m\u001b[0m\n\u001b[0m\u001b[1;32m    167\u001b[0m \u001b[1;33m\u001b[0m\u001b[0m\n\u001b[1;32m    168\u001b[0m     \u001b[1;32mif\u001b[0m \u001b[0moutput\u001b[0m \u001b[1;33m==\u001b[0m \u001b[1;34m\"\"\u001b[0m\u001b[1;33m:\u001b[0m\u001b[1;33m\u001b[0m\u001b[0m\n",
      "\u001b[0;32mC:\\Users\\djper\\Miniconda2\\envs\\eecs352\\lib\\site-packages\\vamp\\load.pyc\u001b[0m in \u001b[0;36mload_and_configure\u001b[0;34m(data, sample_rate, plugin_key, parameters, **kwargs)\u001b[0m\n\u001b[1;32m     81\u001b[0m     plug = vampyhost.load_plugin(plugin_key, sample_rate,\n\u001b[1;32m     82\u001b[0m                                  \u001b[0mvampyhost\u001b[0m\u001b[1;33m.\u001b[0m\u001b[0mADAPT_INPUT_DOMAIN\u001b[0m \u001b[1;33m+\u001b[0m\u001b[1;33m\u001b[0m\u001b[0m\n\u001b[0;32m---> 83\u001b[0;31m                                  vampyhost.ADAPT_CHANNEL_COUNT)\n\u001b[0m\u001b[1;32m     84\u001b[0m \u001b[1;33m\u001b[0m\u001b[0m\n\u001b[1;32m     85\u001b[0m     \u001b[1;32mif\u001b[0m \u001b[1;34m\"process_timestamp_method\"\u001b[0m \u001b[1;32min\u001b[0m \u001b[0mkwargs\u001b[0m\u001b[1;33m:\u001b[0m\u001b[1;33m\u001b[0m\u001b[0m\n",
      "\u001b[0;31mTypeError\u001b[0m: Failed to load plugin: vamp-libxtract:spectral_centroid"
     ]
    }
   ],
   "source": [
    "sr = 11025\n",
    "create_dataset(sr, \"datasets/genres\", \"features/test.csv\", [\"blues\", \"metal\", \"rock\"], num_files = 2)"
   ]
  },
  {
   "cell_type": "markdown",
   "metadata": {},
   "source": [
    "Testing stuff below:"
   ]
  },
  {
   "cell_type": "code",
   "execution_count": 7,
   "metadata": {
    "collapsed": false
   },
   "outputs": [],
   "source": [
    "#Variables used in testing\n",
    "\n",
    "n_fft = 2048\n",
    "hop_length = 512\n",
    "sr = 11025\n",
    "\n",
    "# test signals\n",
    "signal0, sr = librosa.load(path='datasets/genres/blues/blues.00000.au', sr=sr)\n",
    "signal1, sr = librosa.load(path='datasets/genres/blues/blues.00001.au', sr=sr)\n",
    "background0, sr = librosa.load(path='datasets/genres-repet/blues/blues.background.00000.au', sr=sr)\n",
    "background1, sr = librosa.load(path='datasets/genres-repet/blues/blues.background.00001.au', sr=sr)\n",
    "foreground0, sr = librosa.load(path='datasets/genres-repet/blues/blues.foreground.00000.au', sr=sr)\n",
    "foreground1, sr = librosa.load(path='datasets/genres-repet/blues/blues.foreground.00001.au', sr=sr)\n",
    "harmonic0, sr = librosa.load(path='datasets/genres-hpss/blues/blues.harmonic.00000.au', sr=sr)\n",
    "harmonic1, sr = librosa.load(path='datasets/genres-hpss/blues/blues.harmonic.00001.au', sr=sr)\n",
    "percussive0, sr = librosa.load(path='datasets/genres-hpss/blues/blues.percussive.00000.au', sr=sr)\n",
    "percussive1, sr = librosa.load(path='datasets/genres-hpss/blues/blues.percussive.00001.au', sr=sr)"
   ]
  }
 ],
 "metadata": {
  "kernelspec": {
   "display_name": "Python 2",
   "language": "python",
   "name": "python2"
  },
  "language_info": {
   "codemirror_mode": {
    "name": "ipython",
    "version": 2
   },
   "file_extension": ".py",
   "mimetype": "text/x-python",
   "name": "python",
   "nbconvert_exporter": "python",
   "pygments_lexer": "ipython2",
   "version": "2.7.13"
  }
 },
 "nbformat": 4,
 "nbformat_minor": 2
}
