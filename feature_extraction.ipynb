{
 "cells": [
  {
   "cell_type": "code",
   "execution_count": 1,
   "metadata": {
    "collapsed": false
   },
   "outputs": [],
   "source": [
    "import IPython, nussl, numpy as np, scipy as sp, matplotlib.pyplot as plt, matplotlib, sklearn, librosa, cmath,math,time,vamp\n",
    "import os,csv\n",
    "from IPython.display import Audio, display\n",
    "from scipy.fftpack import fft, ifft\n",
    " \n",
    "# This line makes sure your plots happen IN the webpage you're building, instead of in separate windows.\n",
    "%matplotlib inline"
   ]
  },
  {
   "cell_type": "code",
   "execution_count": 2,
   "metadata": {
    "collapsed": false
   },
   "outputs": [],
   "source": [
    "n_fft = 2048\n",
    "hop_length = 512\n",
    "sr = 11025\n",
    "\n",
    "# get the signal\n",
    "signal0, sr = librosa.load(path='datasets/genres/blues/blues.00000.au', sr=sr)\n",
    "signal1, sr = librosa.load(path='datasets/genres/blues/blues.00001.au', sr=sr)\n",
    "background0, sr = librosa.load(path='datasets/genres-repet/blues/blues.background.00000.au', sr=sr)\n",
    "background1, sr = librosa.load(path='datasets/genres-repet/blues/blues.background.00001.au', sr=sr)\n",
    "foreground0, sr = librosa.load(path='datasets/genres-repet/blues/blues.foreground.00000.au', sr=sr)\n",
    "foreground1, sr = librosa.load(path='datasets/genres-repet/blues/blues.foreground.00001.au', sr=sr)\n",
    "harmonic0, sr = librosa.load(path='datasets/genres-hpss/blues/blues.harmonic.00000.au', sr=sr)\n",
    "harmonic1, sr = librosa.load(path='datasets/genres-hpss/blues/blues.harmonic.00001.au', sr=sr)\n",
    "percussive0, sr = librosa.load(path='datasets/genres-hpss/blues/blues.percussive.00000.au', sr=sr)\n",
    "percussive1, sr = librosa.load(path='datasets/genres-hpss/blues/blues.percussive.00001.au', sr=sr)"
   ]
  },
  {
   "cell_type": "code",
   "execution_count": 3,
   "metadata": {
    "collapsed": false
   },
   "outputs": [
    {
     "data": {
      "text/plain": [
       "['bbc-vamp-plugins:bbc-energy',\n",
       " 'bbc-vamp-plugins:bbc-intensity',\n",
       " 'bbc-vamp-plugins:bbc-peaks',\n",
       " 'bbc-vamp-plugins:bbc-rhythm',\n",
       " 'bbc-vamp-plugins:bbc-spectral-contrast',\n",
       " 'bbc-vamp-plugins:bbc-spectral-flux',\n",
       " 'bbc-vamp-plugins:bbc-speechmusic-segmenter',\n",
       " 'beatroot-vamp:beatroot',\n",
       " 'libvamp_essentia:Dissonance_12',\n",
       " 'libvamp_essentia:DistributionShape_15',\n",
       " 'libvamp_essentia:FrequencyBands_36',\n",
       " 'libvamp_essentia:FrequencyBands_38',\n",
       " 'libvamp_essentia:GFCC_40',\n",
       " 'libvamp_essentia:HFC_3',\n",
       " 'libvamp_essentia:HPCP_29',\n",
       " 'libvamp_essentia:Inharmonicity_13',\n",
       " 'libvamp_essentia:LPC_19',\n",
       " 'libvamp_essentia:MFCC_35',\n",
       " 'libvamp_essentia:MFCC_6',\n",
       " 'libvamp_essentia:MelBands_34',\n",
       " 'libvamp_essentia:OddToEvenHarmonicEnergyRatio_37',\n",
       " 'libvamp_essentia:OnsetDetection_32',\n",
       " 'libvamp_essentia:OnsetDetection_33',\n",
       " 'libvamp_essentia:PitchYinFFT_11',\n",
       " 'libvamp_essentia:SpectralContrast_17',\n",
       " 'libvamp_essentia:SpectralPeaks_31',\n",
       " 'libvamp_essentia:SpectralWhitening_30',\n",
       " 'libvamp_essentia:Tristimulus_14',\n",
       " 'libvamp_essentia:bark_Flatness',\n",
       " 'libvamp_essentia:bark_Flux',\n",
       " 'libvamp_essentia:barkshape',\n",
       " 'libvamp_essentia:crunchiness',\n",
       " 'libvamp_essentia:essentia_BarkBands',\n",
       " 'libvamp_essentia:essentia_Centroid',\n",
       " 'libvamp_essentia:essentia_Crest',\n",
       " 'libvamp_essentia:essentia_ERBBands',\n",
       " 'libvamp_essentia:essentia_Flux',\n",
       " 'libvamp_essentia:essentia_Larm',\n",
       " 'libvamp_essentia:essentia_LoudnessVickers',\n",
       " 'libvamp_essentia:essentia_MaxMagFreq',\n",
       " 'libvamp_essentia:essentia_MelBands',\n",
       " 'libvamp_essentia:essentia_PitchSalience',\n",
       " 'libvamp_essentia:essentia_RMS',\n",
       " 'libvamp_essentia:essentia_RollOff',\n",
       " 'libvamp_essentia:essentia_SpectralComplexity',\n",
       " 'libvamp_essentia:essentia_StrongDecay',\n",
       " 'libvamp_essentia:essentia_StrongPeak',\n",
       " 'libvamp_essentia:essentia_ZeroCrossingRate',\n",
       " 'libvamp_essentia:friction',\n",
       " 'libvamp_essentia:perculleys',\n",
       " 'nnls-chroma:chordino',\n",
       " 'nnls-chroma:nnls-chroma',\n",
       " 'nnls-chroma:tuning',\n",
       " 'vamp-libxtract:amdf',\n",
       " 'vamp-libxtract:asdf',\n",
       " 'vamp-libxtract:autocorrelation',\n",
       " 'vamp-libxtract:average_deviation',\n",
       " 'vamp-libxtract:bark_coefficients',\n",
       " 'vamp-libxtract:crest',\n",
       " 'vamp-libxtract:dct',\n",
       " 'vamp-libxtract:f0',\n",
       " 'vamp-libxtract:failsafe_f0',\n",
       " 'vamp-libxtract:flatness',\n",
       " 'vamp-libxtract:harmonic_spectrum',\n",
       " 'vamp-libxtract:highest_value',\n",
       " 'vamp-libxtract:irregularity_j',\n",
       " 'vamp-libxtract:irregularity_k',\n",
       " 'vamp-libxtract:kurtosis',\n",
       " 'vamp-libxtract:loudness',\n",
       " 'vamp-libxtract:lowest_value',\n",
       " 'vamp-libxtract:mean',\n",
       " 'vamp-libxtract:mfcc',\n",
       " 'vamp-libxtract:noisiness',\n",
       " 'vamp-libxtract:nonzero_count',\n",
       " 'vamp-libxtract:odd_even_ratio',\n",
       " 'vamp-libxtract:peak_spectrum',\n",
       " 'vamp-libxtract:rms_amplitude',\n",
       " 'vamp-libxtract:rolloff',\n",
       " 'vamp-libxtract:sharpness',\n",
       " 'vamp-libxtract:skewness',\n",
       " 'vamp-libxtract:smoothness',\n",
       " 'vamp-libxtract:spectral_centroid',\n",
       " 'vamp-libxtract:spectral_inharmonicity',\n",
       " 'vamp-libxtract:spectral_kurtosis',\n",
       " 'vamp-libxtract:spectral_skewness',\n",
       " 'vamp-libxtract:spectral_slope',\n",
       " 'vamp-libxtract:spectral_standard_deviation',\n",
       " 'vamp-libxtract:spectral_variance',\n",
       " 'vamp-libxtract:spectrum',\n",
       " 'vamp-libxtract:spread',\n",
       " 'vamp-libxtract:standard_deviation',\n",
       " 'vamp-libxtract:sum',\n",
       " 'vamp-libxtract:tonality',\n",
       " 'vamp-libxtract:tristimulus_1',\n",
       " 'vamp-libxtract:tristimulus_2',\n",
       " 'vamp-libxtract:tristimulus_3',\n",
       " 'vamp-libxtract:variance',\n",
       " 'vamp-libxtract:zcr']"
      ]
     },
     "execution_count": 3,
     "metadata": {},
     "output_type": "execute_result"
    }
   ],
   "source": [
    "vamp.list_plugins()"
   ]
  },
  {
   "cell_type": "markdown",
   "metadata": {},
   "source": [
    "The following functions are used to calculates a 9 dimensional vector corresponding to the musical surface features outlined section 3.1 in Tzanetazis's Automatic Musical Genre Classification Of Audio Signals. The paper can be found by following the link below:\n",
    "http://www.cs.northwestern.edu/~pardo/courses/eecs352/papers/genre%20classification%20low%20level%20-%20tzanetakis.pdf"
   ]
  },
  {
   "cell_type": "code",
   "execution_count": 4,
   "metadata": {
    "collapsed": false
   },
   "outputs": [],
   "source": [
    "def meanAndStandardDeviationCentroid(signal, sample_rate):\n",
    "    \"\"\"\n",
    "    computes the mean and standard deviation centroid, given an audio vector of an audio file\n",
    "    \"\"\"\n",
    "    centroid = vamp.collect(signal,sample_rate,'vamp-libxtract:spectral_centroid')['vector'][1]\n",
    "    mean = np.mean(centroid)\n",
    "    standard_dev = np.std(centroid)\n",
    "    return mean, standard_dev\n",
    "\n",
    "def meanAndStandardDeviationRolloff(signal, sample_rate):\n",
    "    \"\"\"\n",
    "    computes the mean and standard deviation rolloff, given an audio vector of an audio file\n",
    "    \"\"\"\n",
    "    rolloff = vamp.collect(signal,sample_rate,'vamp-libxtract:rolloff')['vector'][1]\n",
    "    \n",
    "    mean = np.mean(rolloff)\n",
    "    standard_dev = np.std(rolloff)\n",
    "    return mean, standard_dev\n",
    "    \n",
    "def zeroCrossings(signal,sample_rate):\n",
    "    \"\"\"\n",
    "    computes zero crossings value of a signal\n",
    "    \"\"\"\n",
    "    zero_crossings = vamp.collect(signal,sample_rate,'vamp-libxtract:zcr')['vector'][1]\n",
    "    \n",
    "    mean = np.mean(zero_crossings)\n",
    "    standard_dev = np.std(zero_crossings)\n",
    "    return mean,standard_dev\n",
    "\n",
    "def flux(signal,sample_rate):\n",
    "    \"\"\"\n",
    "    computes the flux of a signal\n",
    "    \"\"\"\n",
    "    flux = vamp.collect(signal,sample_rate,'bbc-vamp-plugins:bbc-spectral-flux')['vector'][1]\n",
    "    \n",
    "    mean = np.mean(flux)\n",
    "    standard_dev = np.std(flux)\n",
    "    return mean,standard_dev\n",
    "\n",
    "def low_energy(signal,sample_rate):\n",
    "    \"\"\"\n",
    "    computes the low_energy value for a signal\n",
    "    \"\"\"\n",
    "    energy = a=vamp.collect(signal,sample_rate,'bbc-vamp-plugins:bbc-energy')['vector'][1]\n",
    "    \n",
    "    mean = np.mean(energy)\n",
    "    count = 0.\n",
    "    for el in energy:\n",
    "        if el < mean:\n",
    "            count += 1\n",
    "    return count/float(len(energy))\n",
    "\n",
    "def surface_features(signal, sample_rate):\n",
    "    \"\"\"\n",
    "    Calculates a 9 dimensional vector corresponding to the musical surface features outlined in Tzanetazis's Automatic Musical Genre Classification\n",
    "    Of Audio Signals\n",
    "    \"\"\"\n",
    "    mean_centroid,std_centroid = meanAndStandardDeviationCentroid(signal, sample_rate)\n",
    "    mean_rolloff,std_rolloff = meanAndStandardDeviationRolloff(signal, sample_rate)\n",
    "    mean_zcr,std_zcr = zeroCrossings(signal, sample_rate)\n",
    "    mean_flux,std_flux = flux(signal, sample_rate)\n",
    "    low_e = low_energy(signal, sample_rate)\n",
    "    surface_features = np.array([mean_centroid,std_centroid,mean_rolloff,std_rolloff,mean_zcr,std_zcr,mean_flux,std_flux,low_e])\n",
    "    return surface_features"
   ]
  },
  {
   "cell_type": "markdown",
   "metadata": {},
   "source": [
    "The following functions are used to calculate a 8 dimensional vector corresponding to the rhythmic features outlined section 3.2 in Tzanetazis's Automatic Musical Genre Classification Of Audio Signals."
   ]
  },
  {
   "cell_type": "code",
   "execution_count": 13,
   "metadata": {
    "collapsed": false
   },
   "outputs": [],
   "source": [
    "def rhythm_features(signal,sample_rate):\n",
    "    oenv = librosa.onset.onset_strength(y=signal, sr=sample_rate)\n",
    "    tempo = estimate_tempo(oenv,sample_rate)\n",
    "    return np.array([tempo])\n",
    "\n",
    "def estimate_tempo(oenv,sample_rate):\n",
    "    return librosa.beat.estimate_tempo(oenv,sr=sample_rate)"
   ]
  },
  {
   "cell_type": "code",
   "execution_count": 6,
   "metadata": {
    "collapsed": true
   },
   "outputs": [],
   "source": [
    "## given an audio file, computes a feature vector \n",
    "def make_feature_vector(file_path, sample_rate):\n",
    "    signal, sr = librosa.load(path=file_path, sr=sample_rate)\n",
    "    s_f = surface_features(signal, sr)\n",
    "    r_f = rhythm_features(signal, sr)\n",
    "    genre_name = file_path.split('/')[-1].split('.')[0]\n",
    "    \n",
    "    feature_vector = np.concatenate((s_f, r_f, np.array([genre_name])))\n",
    "    return feature_vector\n",
    "    "
   ]
  },
  {
   "cell_type": "code",
   "execution_count": 7,
   "metadata": {
    "collapsed": true
   },
   "outputs": [],
   "source": [
    "def create_datasets(sample_rate):\n",
    "    dirs = ['datasets/genres','datasets/genres-hpss','datasets/genres-repet']\n",
    "    types = [[],['percussive','harmonic'],['foreground','background']]\n",
    "\n",
    "    names = [d for d in os.listdir('datasets/genres') if os.path.isdir(os.path.join('datasets/genres', d))]\n",
    "    \n",
    "    if not os.path.exists('features'):\n",
    "        os.makedirs('features')\n",
    "        \n",
    "    #control\n",
    "    control = []\n",
    "    for name in names:\n",
    "        for i in range(0,100):\n",
    "            if i > 9:\n",
    "                j = str(i)\n",
    "            else:\n",
    "                j = '0' + str(i)\n",
    "            path = dirs[0]+'/'+name+'/'+name+'.000'+j+'.au'\n",
    "            control.append(make_feature_vector(path,sample_rate))\n",
    "    src = 'features/control.csv'\n",
    "    with open(src,'wb') as csvfile:\n",
    "        writer = csv.writer(csvfile)\n",
    "        for row in control:\n",
    "            writer.writerow(row)\n",
    "            \n",
    "    #others\n",
    "    for i in range(1,3):\n",
    "        for j in range(0,2):\n",
    "            features = []\n",
    "            for name in names:\n",
    "                for x in range(0,100):\n",
    "                    if x > 9:\n",
    "                        y = str(x)\n",
    "                    else:\n",
    "                        y = '0'+str(x)\n",
    "                    path = dirs[i]+'/'+name+'/'+name+'.'+types[i][j]+'.000'+y+'.au'\n",
    "                    features.append(make_feature_vector(path,sample_rate))\n",
    "            src = 'features/'+dirs[i].split('-')[1]+'_'+types[i][j]+'.csv'\n",
    "            with open(src,'wb') as csvfile:\n",
    "                writer = csv.writer(csvfile)\n",
    "                for row in features:\n",
    "                    writer.writerow(row)"
   ]
  },
  {
   "cell_type": "markdown",
   "metadata": {},
   "source": [
    "Testing stuff below:"
   ]
  },
  {
   "cell_type": "code",
   "execution_count": 12,
   "metadata": {
    "collapsed": false
   },
   "outputs": [
    {
     "data": {
      "text/plain": [
       "array([], dtype=float64)"
      ]
     },
     "execution_count": 12,
     "metadata": {},
     "output_type": "execute_result"
    }
   ],
   "source": [
    "rhythm_features(signal0,sr)"
   ]
  },
  {
   "cell_type": "code",
   "execution_count": 9,
   "metadata": {
    "collapsed": false
   },
   "outputs": [
    {
     "data": {
      "text/plain": [
       "[<matplotlib.lines.Line2D at 0x114d1f210>]"
      ]
     },
     "execution_count": 9,
     "metadata": {},
     "output_type": "execute_result"
    },
    {
     "data": {
      "image/png": "[encoded data removed]",
      "text/plain": [
       "<matplotlib.figure.Figure at 0x10f83add0>"
      ]
     },
     "metadata": {},
     "output_type": "display_data"
    }
   ],
   "source": [
    "lst = vamp.collect(signal0,sr,'bbc-vamp-plugins:bbc-rhythm')['list']\n",
    "times = []\n",
    "magnitudes = []\n",
    "for el in lst:\n",
    "    times.append(float(el['timestamp']))\n",
    "    magnitudes.append(el['values'][0])\n",
    "plt.plot(times,magnitudes)"
   ]
  },
  {
   "cell_type": "code",
   "execution_count": 10,
   "metadata": {
    "collapsed": false
   },
   "outputs": [
    {
     "data": {
      "text/plain": [
       "[<matplotlib.lines.Line2D at 0x1194e35d0>]"
      ]
     },
     "execution_count": 10,
     "metadata": {},
     "output_type": "execute_result"
    },
    {
     "data": {
      "image/png": "[encoded data removed]",
      "text/plain": [
       "<matplotlib.figure.Figure at 0x10f83a4d0>"
      ]
     },
     "metadata": {},
     "output_type": "display_data"
    }
   ],
   "source": [
    "a=acorr(signal1)\n",
    "plt.plot(a[:1000])"
   ]
  },
  {
   "cell_type": "code",
   "execution_count": null,
   "metadata": {
    "collapsed": true
   },
   "outputs": [],
   "source": []
  }
 ],
 "metadata": {
  "kernelspec": {
   "display_name": "Python 2",
   "language": "python",
   "name": "python2"
  },
  "language_info": {
   "codemirror_mode": {
    "name": "ipython",
    "version": 2
   },
   "file_extension": ".py",
   "mimetype": "text/x-python",
   "name": "python",
   "nbconvert_exporter": "python",
   "pygments_lexer": "ipython2",
   "version": "2.7.13"
  }
 },
 "nbformat": 4,
 "nbformat_minor": 2
}
