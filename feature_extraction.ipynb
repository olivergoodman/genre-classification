{
 "cells": [
  {
   "cell_type": "code",
   "execution_count": 1,
   "metadata": {
    "collapsed": false
   },
   "outputs": [],
   "source": [
    "import IPython, nussl, numpy as np, scipy as sp, matplotlib.pyplot as plt, matplotlib, sklearn, librosa, cmath,math,time,vamp\n",
    "from IPython.display import Audio, display\n",
    "from scipy.fftpack import fft, ifft\n",
    " \n",
    "# This line makes sure your plots happen IN the webpage you're building, instead of in separate windows.\n",
    "%matplotlib inline"
   ]
  },
  {
   "cell_type": "code",
   "execution_count": 2,
   "metadata": {
    "collapsed": false
   },
   "outputs": [],
   "source": [
    "n_fft = 2048\n",
    "hop_length = 512\n",
    "sr = 11025\n",
    "\n",
    "# get the signal\n",
    "signal0, sr = librosa.load(path='datasets/genres/blues/blues.00000.au', sr=sr)\n",
    "signal1, sr = librosa.load(path='datasets/genres/blues/blues.00001.au', sr=sr)\n",
    "background0, sr = librosa.load(path='datasets/genres-repet/blues/blues.background.00000.au', sr=sr)\n",
    "background1, sr = librosa.load(path='datasets/genres-repet/blues/blues.background.00001.au', sr=sr)\n",
    "foreground0, sr = librosa.load(path='datasets/genres-repet/blues/blues.foreground.00000.au', sr=sr)\n",
    "foreground1, sr = librosa.load(path='datasets/genres-repet/blues/blues.foreground.00001.au', sr=sr)\n",
    "harmonic0, sr = librosa.load(path='datasets/genres-hpss/blues/blues.harmonic.00000.au', sr=sr)\n",
    "harmonic1, sr = librosa.load(path='datasets/genres-hpss/blues/blues.harmonic.00001.au', sr=sr)\n",
    "percussive0, sr = librosa.load(path='datasets/genres-hpss/blues/blues.percussive.00000.au', sr=sr)\n",
    "percussive1, sr = librosa.load(path='datasets/genres-hpss/blues/blues.percussive.00001.au', sr=sr)"
   ]
  },
  {
   "cell_type": "code",
   "execution_count": 3,
   "metadata": {
    "collapsed": false
   },
   "outputs": [
    {
     "data": {
      "text/plain": [
       "['bbc-vamp-plugins:bbc-energy',\n",
       " 'bbc-vamp-plugins:bbc-intensity',\n",
       " 'bbc-vamp-plugins:bbc-peaks',\n",
       " 'bbc-vamp-plugins:bbc-rhythm',\n",
       " 'bbc-vamp-plugins:bbc-spectral-contrast',\n",
       " 'bbc-vamp-plugins:bbc-spectral-flux',\n",
       " 'bbc-vamp-plugins:bbc-speechmusic-segmenter',\n",
       " 'beatroot-vamp:beatroot',\n",
       " 'nnls-chroma:chordino',\n",
       " 'nnls-chroma:nnls-chroma',\n",
       " 'nnls-chroma:tuning',\n",
       " 'vamp-libxtract:amdf',\n",
       " 'vamp-libxtract:asdf',\n",
       " 'vamp-libxtract:autocorrelation',\n",
       " 'vamp-libxtract:average_deviation',\n",
       " 'vamp-libxtract:bark_coefficients',\n",
       " 'vamp-libxtract:crest',\n",
       " 'vamp-libxtract:dct',\n",
       " 'vamp-libxtract:f0',\n",
       " 'vamp-libxtract:failsafe_f0',\n",
       " 'vamp-libxtract:flatness',\n",
       " 'vamp-libxtract:harmonic_spectrum',\n",
       " 'vamp-libxtract:highest_value',\n",
       " 'vamp-libxtract:irregularity_j',\n",
       " 'vamp-libxtract:irregularity_k',\n",
       " 'vamp-libxtract:kurtosis',\n",
       " 'vamp-libxtract:loudness',\n",
       " 'vamp-libxtract:lowest_value',\n",
       " 'vamp-libxtract:mean',\n",
       " 'vamp-libxtract:mfcc',\n",
       " 'vamp-libxtract:noisiness',\n",
       " 'vamp-libxtract:nonzero_count',\n",
       " 'vamp-libxtract:odd_even_ratio',\n",
       " 'vamp-libxtract:peak_spectrum',\n",
       " 'vamp-libxtract:rms_amplitude',\n",
       " 'vamp-libxtract:rolloff',\n",
       " 'vamp-libxtract:sharpness',\n",
       " 'vamp-libxtract:skewness',\n",
       " 'vamp-libxtract:smoothness',\n",
       " 'vamp-libxtract:spectral_centroid',\n",
       " 'vamp-libxtract:spectral_inharmonicity',\n",
       " 'vamp-libxtract:spectral_kurtosis',\n",
       " 'vamp-libxtract:spectral_skewness',\n",
       " 'vamp-libxtract:spectral_slope',\n",
       " 'vamp-libxtract:spectral_standard_deviation',\n",
       " 'vamp-libxtract:spectral_variance',\n",
       " 'vamp-libxtract:spectrum',\n",
       " 'vamp-libxtract:spread',\n",
       " 'vamp-libxtract:standard_deviation',\n",
       " 'vamp-libxtract:sum',\n",
       " 'vamp-libxtract:tonality',\n",
       " 'vamp-libxtract:tristimulus_1',\n",
       " 'vamp-libxtract:tristimulus_2',\n",
       " 'vamp-libxtract:tristimulus_3',\n",
       " 'vamp-libxtract:variance',\n",
       " 'vamp-libxtract:zcr']"
      ]
     },
     "execution_count": 3,
     "metadata": {},
     "output_type": "execute_result"
    }
   ],
   "source": [
    "vamp.list_plugins()"
   ]
  },
  {
   "cell_type": "code",
   "execution_count": 4,
   "metadata": {
    "collapsed": false
   },
   "outputs": [],
   "source": [
    "def meanAndStandardDeviationCentroid(signal, sample_rate):\n",
    "    \"\"\"\n",
    "    computes the mean and standard deviation centroid, given an audio vector of an audio file\n",
    "    \"\"\"\n",
    "    centroid = vamp.collect(signal,sample_rate,'vamp-libxtract:spectral_centroid')['vector'][1]\n",
    "    mean = np.mean(centroid)\n",
    "    standard_dev = np.std(centroid)\n",
    "    return mean, standard_dev\n",
    "    "
   ]
  },
  {
   "cell_type": "code",
   "execution_count": 5,
   "metadata": {
    "collapsed": false
   },
   "outputs": [],
   "source": [
    "def meanAndStandardDeviationRolloff(signal, sample_rate):\n",
    "    \"\"\"\n",
    "    computes the mean and standard deviation rolloff, given an audio vector of an audio file\n",
    "    \"\"\"\n",
    "    rolloff = vamp.collect(signal,sample_rate,'vamp-libxtract:rolloff')['vector'][1]\n",
    "    \n",
    "    mean = np.mean(rolloff)\n",
    "    standard_dev = np.std(rolloff)\n",
    "    return mean, standard_dev"
   ]
  },
  {
   "cell_type": "code",
   "execution_count": 6,
   "metadata": {
    "collapsed": false
   },
   "outputs": [],
   "source": [
    "###     ask Preem about mean vs standard dev\n",
    "def zeroCrossings(signal,sample_rate):\n",
    "    \"\"\"\n",
    "    computes zero crossings value of a signal\n",
    "    \"\"\"\n",
    "    zero_crossings = vamp.collect(signal,sample_rate,'vamp-libxtract:zcr')['vector'][1]\n",
    "    \n",
    "    mean = np.mean(zero_crossings)\n",
    "    standard_dev = np.std(zero_crossings)\n",
    "    return mean,standard_dev"
   ]
  },
  {
   "cell_type": "code",
   "execution_count": 7,
   "metadata": {
    "collapsed": true
   },
   "outputs": [],
   "source": [
    "### ask Preem about flux\n",
    "def flux(signal,sample_rate):\n",
    "    \"\"\"\n",
    "    computes the flux of a signal\n",
    "    \"\"\"\n",
    "    flux = vamp.collect(signal,sample_rate,'bbc-vamp-plugins:bbc-spectral-flux')['vector'][1]\n",
    "    \n",
    "    mean = np.mean(flux)\n",
    "    standard_dev = np.std(flux)\n",
    "    return mean,standard_dev"
   ]
  },
  {
   "cell_type": "code",
   "execution_count": 8,
   "metadata": {
    "collapsed": true
   },
   "outputs": [],
   "source": [
    "def low_energy(signal,sample_rate):\n",
    "    \"\"\"\n",
    "    computes the low_energy value for a signal\n",
    "    \"\"\"\n",
    "    energy = a=vamp.collect(signal0,sr,'bbc-vamp-plugins:bbc-energy')['vector'][1]\n",
    "    \n",
    "    mean = np.mean(energy)\n",
    "    count = 0.\n",
    "    for el in energy:\n",
    "        if el < mean:\n",
    "            count += 1\n",
    "    return count/float(len(energy))"
   ]
  },
  {
   "cell_type": "code",
   "execution_count": 9,
   "metadata": {
    "collapsed": false
   },
   "outputs": [],
   "source": [
    "mean_centroid,std_centroid = meanAndStandardDeviationCentroid(signal0, sr)\n",
    "mean_rolloff,std_rolloff = meanAndStandardDeviationRolloff(signal0, sr)\n",
    "mean_zcr,std_zcr = zeroCrossings(signal0, sr)\n",
    "mean_flux,std_flux = flux(signal0, sr)\n",
    "low_e = low_energy(signal0,sr)\n",
    "surface_features = [mean_centroid,std_centroid,mean_rolloff,std_rolloff,mean_zcr,std_zcr,mean_flux,std_flux,low_e]\n",
    "acor = vamp.collect(signal0,sr,'vamp-libxtract:autocorrelation')['matrix'][1]"
   ]
  },
  {
   "cell_type": "code",
   "execution_count": 10,
   "metadata": {
    "collapsed": false
   },
   "outputs": [
    {
     "data": {
      "text/plain": [
       "[1276.2539,\n",
       " 179.53493,\n",
       " 3284.2458,\n",
       " 415.09097,\n",
       " 0.14078802,\n",
       " 0.044084106,\n",
       " 491.72043,\n",
       " 222.83797,\n",
       " 0.5216049382716049]"
      ]
     },
     "execution_count": 10,
     "metadata": {},
     "output_type": "execute_result"
    }
   ],
   "source": [
    "surface_features"
   ]
  }
 ],
 "metadata": {
  "kernelspec": {
   "display_name": "Python 2",
   "language": "python",
   "name": "python2"
  },
  "language_info": {
   "codemirror_mode": {
    "name": "ipython",
    "version": 2
   },
   "file_extension": ".py",
   "mimetype": "text/x-python",
   "name": "python",
   "nbconvert_exporter": "python",
   "pygments_lexer": "ipython2",
   "version": "2.7.13"
  }
 },
 "nbformat": 4,
 "nbformat_minor": 2
}
