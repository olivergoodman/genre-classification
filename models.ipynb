{
 "cells": [
  {
   "cell_type": "code",
   "execution_count": 157,
   "metadata": {
    "collapsed": false
   },
   "outputs": [],
   "source": [
    "import IPython, nussl, numpy as np, scipy as sp, matplotlib.pyplot as plt, matplotlib, sklearn, librosa, cmath,math,time,vamp\n",
    "import os\n",
    "from IPython.display import Audio, display\n",
    "from scipy.fftpack import fft, ifft\n",
    "import csv\n",
    "from sklearn.neighbors import KNeighborsClassifier\n",
    "from sklearn.naive_bayes import GaussianNB\n",
    "from sklearn.svm import SVC\n",
    "from sklearn.preprocessing import normalize"
   ]
  },
  {
   "cell_type": "code",
   "execution_count": 158,
   "metadata": {
    "collapsed": true
   },
   "outputs": [],
   "source": [
    "def createTestAndTrain(path_to_csv, percent_train=70, num_genres=10):\n",
    "    \"\"\"\n",
    "    given path to csv\n",
    "    returns partitioned training and testing sets\n",
    "    \"\"\"\n",
    "    counter = 0\n",
    "    train = np.array([])\n",
    "    test = np.array([])\n",
    "    genres_train = np.array([])\n",
    "    genres_test = np.array([])\n",
    "    \n",
    "    # get csv data\n",
    "    csv = np.genfromtxt(path_to_csv, dtype='string', delimiter=',', skip_header=1)\n",
    "    genre_subsets = np.split(csv, num_genres)\n",
    "    for i, value in enumerate(genre_subsets):\n",
    "        np.random.shuffle(genre_subsets[i])\n",
    "    csv = np.concatenate(genre_subsets)\n",
    "    # separate into vectors and labels\n",
    "    labels = csv[:,-1]\n",
    "    feature_vectors = csv[:,:-1].astype(float)\n",
    "    feature_vectors = normalize(feature_vectors, axis=0)\n",
    "#     print feature_vectors\n",
    "    \n",
    "    train = feature_vectors[np.where(np.arange(feature_vectors.shape[0]) % 100 < percent_train)]\n",
    "    test = feature_vectors[np.where(np.arange(feature_vectors.shape[0]) % 100 >= percent_train)]\n",
    "    genres_train = labels[np.where(np.arange(labels.shape[0]) % 100 < percent_train)]\n",
    "    genres_test = labels[np.where(np.arange(labels.shape[0]) % 100 >= percent_train)]\n",
    "    \n",
    "    return (train, genres_train), (test, genres_test)"
   ]
  },
  {
   "cell_type": "code",
   "execution_count": 159,
   "metadata": {
    "collapsed": true
   },
   "outputs": [],
   "source": [
    "def trainGaussianNB(path_to_csv):\n",
    "    \"\"\"\n",
    "    given a path to the feature vector table (csv file)\n",
    "    returns a trained Gaussian Naive Bayes model\n",
    "    \"\"\"\n",
    "    # partition out training and testing sets\n",
    "    training, testing = createTestAndTrain(path_to_csv)\n",
    "    train = training[0]\n",
    "    genres_train = training[1]\n",
    "    test = testing[0]\n",
    "    genres_test = testing[1]\n",
    "    \n",
    "    # train\n",
    "    gnb = GaussianNB()\n",
    "    gnb.fit(train, genres_train) \n",
    "    \n",
    "    # output prediction accuracy\n",
    "    predictions = gnb.predict(test)\n",
    "    count = 0\n",
    "    for i, prediction in enumerate(predictions):\n",
    "        if prediction == genres_test[i]:\n",
    "            count += 1\n",
    "    print \"Prediction Accuracy: \", float(count)/len(genres_test)\n",
    "\n",
    "    return gnb"
   ]
  },
  {
   "cell_type": "code",
   "execution_count": 160,
   "metadata": {
    "collapsed": false
   },
   "outputs": [
    {
     "name": "stdout",
     "output_type": "stream",
     "text": [
      "Prediction Accuracy:  0.43\n"
     ]
    }
   ],
   "source": [
    "gnb_control = trainGaussianNB('features/control.csv')"
   ]
  },
  {
   "cell_type": "code",
   "execution_count": 161,
   "metadata": {
    "collapsed": false
   },
   "outputs": [
    {
     "name": "stdout",
     "output_type": "stream",
     "text": [
      "Prediction Accuracy:  0.44\n"
     ]
    }
   ],
   "source": [
    "gnb_hpss_percussive = trainGaussianNB('features/hpss_percussive.csv')"
   ]
  },
  {
   "cell_type": "code",
   "execution_count": 162,
   "metadata": {
    "collapsed": false
   },
   "outputs": [
    {
     "name": "stdout",
     "output_type": "stream",
     "text": [
      "Prediction Accuracy:  0.366666666667\n"
     ]
    }
   ],
   "source": [
    "gnb_hpss_harmonic = trainGaussianNB('features/hpss_harmonic.csv')"
   ]
  },
  {
   "cell_type": "code",
   "execution_count": 163,
   "metadata": {
    "collapsed": false
   },
   "outputs": [],
   "source": [
    "#gnb_hpss_both = trainGaussianNB('features/hpss_h_and_p.csv')"
   ]
  },
  {
   "cell_type": "code",
   "execution_count": 164,
   "metadata": {
    "collapsed": false
   },
   "outputs": [
    {
     "name": "stdout",
     "output_type": "stream",
     "text": [
      "Prediction Accuracy:  0.453333333333\n"
     ]
    }
   ],
   "source": [
    "gnb_repet_fg = trainGaussianNB('features/repet_foreground.csv')"
   ]
  },
  {
   "cell_type": "code",
   "execution_count": 165,
   "metadata": {
    "collapsed": false
   },
   "outputs": [
    {
     "name": "stdout",
     "output_type": "stream",
     "text": [
      "Prediction Accuracy:  0.43\n"
     ]
    }
   ],
   "source": [
    "gnb_repet_bg = trainGaussianNB('features/repet_background.csv')"
   ]
  },
  {
   "cell_type": "code",
   "execution_count": 166,
   "metadata": {
    "collapsed": false
   },
   "outputs": [],
   "source": [
    "#gnb_repet_both = trainGaussianNB('features/repet_f_and_b.csv')"
   ]
  },
  {
   "cell_type": "code",
   "execution_count": 167,
   "metadata": {
    "collapsed": false
   },
   "outputs": [],
   "source": [
    "def trainNN(path_to_csv, num_neighbors):\n",
    "    \"\"\"\n",
    "    given a path to the feature vector table (csv file)\n",
    "    returns a trained nearest neighbor model, the validation set and the testing (validation) target labels\n",
    "    \"\"\"\n",
    "    # partition out training and testing sets\n",
    "    training, testing = createTestAndTrain(path_to_csv)\n",
    "    train = training[0]\n",
    "    genres_train = training[1]\n",
    "    test = testing[0]\n",
    "    genres_test = testing[1]\n",
    "    \n",
    "    # train\n",
    "    nn = KNeighborsClassifier(n_neighbors=num_neighbors)\n",
    "    nn.fit(train, genres_train) \n",
    "    \n",
    "    # output prediction accuracy\n",
    "    predictions = nn.predict(test)\n",
    "    count = 0\n",
    "    for i, prediction in enumerate(predictions):\n",
    "        if prediction == genres_test[i]:\n",
    "            count += 1\n",
    "    print \"Prediction Accuracy: \", float(count)/len(genres_test)\n",
    "    \n",
    "#     print nn.predict_proba(test)\n",
    "\n",
    "    return nn, test, genres_train"
   ]
  },
  {
   "cell_type": "code",
   "execution_count": 168,
   "metadata": {
    "collapsed": false,
    "scrolled": false
   },
   "outputs": [
    {
     "name": "stdout",
     "output_type": "stream",
     "text": [
      "Prediction Accuracy:  0.446666666667\n"
     ]
    }
   ],
   "source": [
    "nn_control = trainNN('features/control.csv', 4)"
   ]
  },
  {
   "cell_type": "code",
   "execution_count": 169,
   "metadata": {
    "collapsed": false
   },
   "outputs": [
    {
     "name": "stdout",
     "output_type": "stream",
     "text": [
      "Prediction Accuracy:  0.36\n"
     ]
    }
   ],
   "source": [
    "nn_hpss_percussive = trainNN('features/hpss_percussive.csv', 4)"
   ]
  },
  {
   "cell_type": "code",
   "execution_count": 170,
   "metadata": {
    "collapsed": false
   },
   "outputs": [
    {
     "name": "stdout",
     "output_type": "stream",
     "text": [
      "Prediction Accuracy:  0.37\n"
     ]
    }
   ],
   "source": [
    "nn_hpss_harmonic = trainNN('features/hpss_harmonic.csv', 4)"
   ]
  },
  {
   "cell_type": "code",
   "execution_count": 171,
   "metadata": {
    "collapsed": false
   },
   "outputs": [],
   "source": [
    "#nn_hpss_both = trainNN('features/hpss_h_and_p.csv', 4)"
   ]
  },
  {
   "cell_type": "code",
   "execution_count": 172,
   "metadata": {
    "collapsed": false
   },
   "outputs": [
    {
     "name": "stdout",
     "output_type": "stream",
     "text": [
      "Prediction Accuracy:  0.396666666667\n"
     ]
    }
   ],
   "source": [
    "nn_repet_background = trainNN('features/repet_background.csv', 4)"
   ]
  },
  {
   "cell_type": "code",
   "execution_count": 173,
   "metadata": {
    "collapsed": false
   },
   "outputs": [
    {
     "name": "stdout",
     "output_type": "stream",
     "text": [
      "Prediction Accuracy:  0.373333333333\n"
     ]
    }
   ],
   "source": [
    "nn_repet_foreground = trainNN('features/repet_foreground.csv', 4)"
   ]
  },
  {
   "cell_type": "code",
   "execution_count": 174,
   "metadata": {
    "collapsed": false
   },
   "outputs": [],
   "source": [
    "#nn_repet_both = trainNN('features/repet_f_and_b.csv', 4)"
   ]
  },
  {
   "cell_type": "code",
   "execution_count": 175,
   "metadata": {
    "collapsed": true
   },
   "outputs": [],
   "source": [
    "def trainSVC(path_to_csv):\n",
    "    \"\"\"\n",
    "    given a path to the feature vector table (csv file)\n",
    "    returns trained support vector classifcation, with test vectors and test genre labels\n",
    "    \"\"\"\n",
    "    # partition out training and testing sets\n",
    "    training, testing = createTestAndTrain(path_to_csv)\n",
    "    train = training[0]\n",
    "    genres_train = training[1]\n",
    "    test = testing[0]\n",
    "    genres_test = testing[1]\n",
    "    \n",
    "    # train\n",
    "    clf = SVC()\n",
    "    clf.fit(train, genres_train) \n",
    "\n",
    "    # output prediction accuracy\n",
    "    predictions = clf.predict(test)\n",
    "    count = 0\n",
    "    for i, prediction in enumerate(predictions):\n",
    "        if prediction == genres_test[i]:\n",
    "            count += 1\n",
    "    print \"Prediction Accuracy: \", float(count)/len(genres_test)\n",
    "    \n",
    "#     print clf.predict_proba(test)\n",
    "\n",
    "    return clf, test, genres_train"
   ]
  },
  {
   "cell_type": "code",
   "execution_count": 176,
   "metadata": {
    "collapsed": false
   },
   "outputs": [
    {
     "name": "stdout",
     "output_type": "stream",
     "text": [
      "Prediction Accuracy:  0.293333333333\n"
     ]
    }
   ],
   "source": [
    "svc_control = trainSVC('features/control.csv')"
   ]
  },
  {
   "cell_type": "code",
   "execution_count": 177,
   "metadata": {
    "collapsed": false
   },
   "outputs": [
    {
     "name": "stdout",
     "output_type": "stream",
     "text": [
      "Prediction Accuracy:  0.32\n"
     ]
    }
   ],
   "source": [
    "svc_hpss_harmonic = trainSVC('features/hpss_harmonic.csv')"
   ]
  },
  {
   "cell_type": "code",
   "execution_count": 178,
   "metadata": {
    "collapsed": false
   },
   "outputs": [
    {
     "name": "stdout",
     "output_type": "stream",
     "text": [
      "Prediction Accuracy:  0.316666666667\n"
     ]
    }
   ],
   "source": [
    "svc_hpss_percussive = trainSVC('features/hpss_percussive.csv')"
   ]
  },
  {
   "cell_type": "code",
   "execution_count": 179,
   "metadata": {
    "collapsed": false
   },
   "outputs": [],
   "source": [
    "#svc_hpss_both = trainSVC('features/hpss_h_and_p.csv')"
   ]
  },
  {
   "cell_type": "code",
   "execution_count": 180,
   "metadata": {
    "collapsed": false
   },
   "outputs": [
    {
     "name": "stdout",
     "output_type": "stream",
     "text": [
      "Prediction Accuracy:  0.326666666667\n"
     ]
    }
   ],
   "source": [
    "svc_repet_fg = trainSVC('features/repet_foreground.csv')"
   ]
  },
  {
   "cell_type": "code",
   "execution_count": 181,
   "metadata": {
    "collapsed": false
   },
   "outputs": [
    {
     "name": "stdout",
     "output_type": "stream",
     "text": [
      "Prediction Accuracy:  0.38\n"
     ]
    }
   ],
   "source": [
    "svc_repet_bg = trainSVC('features/repet_background.csv')"
   ]
  },
  {
   "cell_type": "code",
   "execution_count": 182,
   "metadata": {
    "collapsed": false
   },
   "outputs": [],
   "source": [
    "#svc_repet_both = trainSVC('features/repet_f_and_b.csv')"
   ]
  },
  {
   "cell_type": "code",
   "execution_count": null,
   "metadata": {
    "collapsed": true
   },
   "outputs": [],
   "source": []
  }
 ],
 "metadata": {
  "kernelspec": {
   "display_name": "Python 2",
   "language": "python",
   "name": "python2"
  },
  "language_info": {
   "codemirror_mode": {
    "name": "ipython",
    "version": 2
   },
   "file_extension": ".py",
   "mimetype": "text/x-python",
   "name": "python",
   "nbconvert_exporter": "python",
   "pygments_lexer": "ipython2",
   "version": "2.7.13"
  }
 },
 "nbformat": 4,
 "nbformat_minor": 2
}
