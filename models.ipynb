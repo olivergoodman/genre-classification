{
 "cells": [
  {
   "cell_type": "code",
   "execution_count": 8,
   "metadata": {
    "collapsed": false
   },
   "outputs": [],
   "source": [
    "import IPython, nussl, numpy as np, scipy as sp, matplotlib.pyplot as plt, matplotlib, sklearn, librosa, cmath,math,time,vamp\n",
    "import os\n",
    "from IPython.display import Audio, display\n",
    "from scipy.fftpack import fft, ifft\n",
    "import csv\n",
    "from sklearn.neighbors import KNeighborsClassifier\n",
    "from sklearn.naive_bayes import GaussianNB\n",
    "from sklearn.svm import SVC\n",
    "from sklearn.preprocessing import normalize"
   ]
  },
  {
   "cell_type": "code",
   "execution_count": 25,
   "metadata": {
    "collapsed": true
   },
   "outputs": [],
   "source": [
    "def createTestAndTrain(path_to_csv, percent_train=1):\n",
    "    \"\"\"\n",
    "    given path to csv\n",
    "    returns partitioned training and testing sets\n",
    "    \"\"\"\n",
    "    counter = 0\n",
    "    train = np.array([])\n",
    "    test = np.array([])\n",
    "    genres_train = np.array([])\n",
    "    genres_test = np.array([])\n",
    "    \n",
    "    # get csv data\n",
    "    csv = np.genfromtxt(path_to_csv, dtype='string', delimiter=',', skip_header=1)\n",
    "    \n",
    "    # separate into vectors and labels\n",
    "    labels = csv[:,-1]\n",
    "    feature_vectors = csv[:,:-1].astype(float)\n",
    "    feature_vectors = normalize(feature_vectors, axis=0)\n",
    "#     print feature_vectors\n",
    "    \n",
    "    train = feature_vectors[np.where(np.arange(feature_vectors.shape[0]) % 100 < percent_train)]\n",
    "    test = feature_vectors[np.where(np.arange(feature_vectors.shape[0]) % 100 >= percent_train)]\n",
    "    genres_train = labels[np.where(np.arange(labels.shape[0]) % 100 < percent_train)]\n",
    "    genres_test = labels[np.where(np.arange(labels.shape[0]) % 100 >= percent_train)]\n",
    "    \n",
    "    return (train, genres_train), (test, genres_test)"
   ]
  },
  {
   "cell_type": "code",
   "execution_count": 26,
   "metadata": {
    "collapsed": true
   },
   "outputs": [],
   "source": [
    "def trainGaussianNB(path_to_csv):\n",
    "    \"\"\"\n",
    "    given a path to the feature vector table (csv file)\n",
    "    returns a trained Gaussian Naive Bayes model\n",
    "    \"\"\"\n",
    "    # partition out training and testing sets\n",
    "    training, testing = createTestAndTrain(path_to_csv)\n",
    "    train = training[0]\n",
    "    genres_train = training[1]\n",
    "    test = testing[0]\n",
    "    genres_test = testing[1]\n",
    "    \n",
    "    # train\n",
    "    gnb = GaussianNB()\n",
    "    gnb.fit(train, genres_train) \n",
    "    \n",
    "    # output prediction accuracy\n",
    "    predictions = gnb.predict(test)\n",
    "    count = 0\n",
    "    for i, prediction in enumerate(predictions):\n",
    "        if prediction == genres_test[i]:\n",
    "            count += 1\n",
    "    print \"Prediction Accuracy: \", float(count)/len(genres_test)\n",
    "\n",
    "    return gnb"
   ]
  },
  {
   "cell_type": "code",
   "execution_count": 27,
   "metadata": {
    "collapsed": false
   },
   "outputs": [
    {
     "name": "stdout",
     "output_type": "stream",
     "text": [
      "Prediction Accuracy:  0.278058645096\n"
     ]
    }
   ],
   "source": [
    "gnb_control = trainGaussianNB('features/control.csv')"
   ]
  },
  {
   "cell_type": "code",
   "execution_count": 28,
   "metadata": {
    "collapsed": false
   },
   "outputs": [
    {
     "name": "stdout",
     "output_type": "stream",
     "text": [
      "Prediction Accuracy:  0.244691607685\n"
     ]
    }
   ],
   "source": [
    "gnb_hpss_percussive = trainGaussianNB('features/hpss_percussive.csv')"
   ]
  },
  {
   "cell_type": "code",
   "execution_count": 30,
   "metadata": {
    "collapsed": false
   },
   "outputs": [
    {
     "name": "stdout",
     "output_type": "stream",
     "text": [
      "Prediction Accuracy:  0.201213346815\n"
     ]
    }
   ],
   "source": [
    "gnb_hpss_harmonic = trainGaussianNB('features/hpss_harmonic.csv')"
   ]
  },
  {
   "cell_type": "code",
   "execution_count": 7,
   "metadata": {
    "collapsed": false
   },
   "outputs": [
    {
     "name": "stdout",
     "output_type": "stream",
     "text": [
      "Prediction Accuracy:  0.35\n"
     ]
    }
   ],
   "source": [
    "gnb_hpss_both = trainGaussianNB('features/hpss_h_and_p.csv')"
   ]
  },
  {
   "cell_type": "code",
   "execution_count": 8,
   "metadata": {
    "collapsed": false
   },
   "outputs": [
    {
     "name": "stdout",
     "output_type": "stream",
     "text": [
      "Prediction Accuracy:  0.3\n"
     ]
    }
   ],
   "source": [
    "gnb_repet_fg = trainGaussianNB('features/repet_foreground.csv')"
   ]
  },
  {
   "cell_type": "code",
   "execution_count": 9,
   "metadata": {
    "collapsed": false
   },
   "outputs": [
    {
     "name": "stdout",
     "output_type": "stream",
     "text": [
      "Prediction Accuracy:  0.38\n"
     ]
    }
   ],
   "source": [
    "gnb_repet_bg = trainGaussianNB('features/repet_background.csv')"
   ]
  },
  {
   "cell_type": "code",
   "execution_count": 10,
   "metadata": {
    "collapsed": false
   },
   "outputs": [
    {
     "name": "stdout",
     "output_type": "stream",
     "text": [
      "Prediction Accuracy:  0.37\n"
     ]
    }
   ],
   "source": [
    "gnb_repet_both = trainGaussianNB('features/repet_f_and_b.csv')"
   ]
  },
  {
   "cell_type": "code",
   "execution_count": 11,
   "metadata": {
    "collapsed": false
   },
   "outputs": [],
   "source": [
    "def trainNN(path_to_csv, num_neighbors):\n",
    "    \"\"\"\n",
    "    given a path to the feature vector table (csv file)\n",
    "    returns a trained nearest neighbor model, the validation set and the testing (validation) target labels\n",
    "    \"\"\"\n",
    "    # partition out training and testing sets\n",
    "    training, testing = createTestAndTrain(path_to_csv)\n",
    "    train = training[0]\n",
    "    genres_train = training[1]\n",
    "    test = testing[0]\n",
    "    genres_test = testing[1]\n",
    "    \n",
    "    # train\n",
    "    nn = KNeighborsClassifier(n_neighbors=num_neighbors)\n",
    "    nn.fit(train, genres_train) \n",
    "    \n",
    "    # output prediction accuracy\n",
    "    predictions = nn.predict(test)\n",
    "    count = 0\n",
    "    for i, prediction in enumerate(predictions):\n",
    "        if prediction == genres_test[i]:\n",
    "            count += 1\n",
    "    print \"Prediction Accuracy: \", float(count)/len(genres_test)\n",
    "    \n",
    "#     print nn.predict_proba(test)\n",
    "\n",
    "    return nn, test, genres_train"
   ]
  },
  {
   "cell_type": "code",
   "execution_count": 12,
   "metadata": {
    "collapsed": false,
    "scrolled": false
   },
   "outputs": [
    {
     "name": "stdout",
     "output_type": "stream",
     "text": [
      "Prediction Accuracy:  0.31\n"
     ]
    }
   ],
   "source": [
    "nn_control = trainNN('features/control.csv', 4)"
   ]
  },
  {
   "cell_type": "code",
   "execution_count": 13,
   "metadata": {
    "collapsed": false
   },
   "outputs": [
    {
     "name": "stdout",
     "output_type": "stream",
     "text": [
      "Prediction Accuracy:  0.28\n"
     ]
    }
   ],
   "source": [
    "nn_hpss_percussive = trainNN('features/hpss_percussive.csv', 4)"
   ]
  },
  {
   "cell_type": "code",
   "execution_count": 14,
   "metadata": {
    "collapsed": false
   },
   "outputs": [
    {
     "name": "stdout",
     "output_type": "stream",
     "text": [
      "Prediction Accuracy:  0.32\n"
     ]
    }
   ],
   "source": [
    "nn_hpss_harmonic = trainNN('features/hpss_harmonic.csv', 4)"
   ]
  },
  {
   "cell_type": "code",
   "execution_count": 15,
   "metadata": {
    "collapsed": false
   },
   "outputs": [
    {
     "name": "stdout",
     "output_type": "stream",
     "text": [
      "Prediction Accuracy:  0.29\n"
     ]
    }
   ],
   "source": [
    "nn_hpss_both = trainNN('features/hpss_h_and_p.csv', 4)"
   ]
  },
  {
   "cell_type": "code",
   "execution_count": 16,
   "metadata": {
    "collapsed": false
   },
   "outputs": [
    {
     "name": "stdout",
     "output_type": "stream",
     "text": [
      "Prediction Accuracy:  0.24\n"
     ]
    }
   ],
   "source": [
    "nn_repet_background = trainNN('features/repet_background.csv', 4)"
   ]
  },
  {
   "cell_type": "code",
   "execution_count": 17,
   "metadata": {
    "collapsed": false
   },
   "outputs": [
    {
     "name": "stdout",
     "output_type": "stream",
     "text": [
      "Prediction Accuracy:  0.19\n"
     ]
    }
   ],
   "source": [
    "nn_repet_foreground = trainNN('features/repet_foreground.csv', 4)"
   ]
  },
  {
   "cell_type": "code",
   "execution_count": 18,
   "metadata": {
    "collapsed": false
   },
   "outputs": [
    {
     "name": "stdout",
     "output_type": "stream",
     "text": [
      "Prediction Accuracy:  0.34\n"
     ]
    }
   ],
   "source": [
    "nn_repet_both = trainNN('features/repet_f_and_b.csv', 4)"
   ]
  },
  {
   "cell_type": "code",
   "execution_count": 29,
   "metadata": {
    "collapsed": true
   },
   "outputs": [],
   "source": [
    "def trainSVC(path_to_csv):\n",
    "    \"\"\"\n",
    "    given a path to the feature vector table (csv file)\n",
    "    returns trained support vector classifcation, with test vectors and test genre labels\n",
    "    \"\"\"\n",
    "    # partition out training and testing sets\n",
    "    training, testing = createTestAndTrain(path_to_csv)\n",
    "    train = training[0]\n",
    "    genres_train = training[1]\n",
    "    test = testing[0]\n",
    "    genres_test = testing[1]\n",
    "    \n",
    "    # train\n",
    "    clf = SVC()\n",
    "    clf.fit(train, genres_train) \n",
    "\n",
    "    # output prediction accuracy\n",
    "    predictions = clf.predict(test)\n",
    "    count = 0\n",
    "    for i, prediction in enumerate(predictions):\n",
    "        if prediction == genres_test[i]:\n",
    "            count += 1\n",
    "    print \"Prediction Accuracy: \", float(count)/len(genres_test)\n",
    "    \n",
    "#     print clf.predict_proba(test)\n",
    "\n",
    "    return clf, test, genres_train"
   ]
  },
  {
   "cell_type": "code",
   "execution_count": 30,
   "metadata": {
    "collapsed": false
   },
   "outputs": [
    {
     "name": "stdout",
     "output_type": "stream",
     "text": [
      "Prediction Accuracy:  0.13\n"
     ]
    }
   ],
   "source": [
    "svc_control = trainSVC('features/control.csv')"
   ]
  },
  {
   "cell_type": "code",
   "execution_count": 31,
   "metadata": {
    "collapsed": false
   },
   "outputs": [
    {
     "name": "stdout",
     "output_type": "stream",
     "text": [
      "Prediction Accuracy:  0.15\n"
     ]
    }
   ],
   "source": [
    "svc_hpss_harmonic = trainSVC('features/hpss_harmonic.csv')"
   ]
  },
  {
   "cell_type": "code",
   "execution_count": 32,
   "metadata": {
    "collapsed": false
   },
   "outputs": [
    {
     "name": "stdout",
     "output_type": "stream",
     "text": [
      "Prediction Accuracy:  0.16\n"
     ]
    }
   ],
   "source": [
    "svc_hpss_percussive = trainSVC('features/hpss_percussive.csv')"
   ]
  },
  {
   "cell_type": "code",
   "execution_count": 33,
   "metadata": {
    "collapsed": false
   },
   "outputs": [
    {
     "name": "stdout",
     "output_type": "stream",
     "text": [
      "Prediction Accuracy:  0.14\n"
     ]
    }
   ],
   "source": [
    "svc_hpss_both = trainSVC('features/hpss_h_and_p.csv')"
   ]
  },
  {
   "cell_type": "code",
   "execution_count": 34,
   "metadata": {
    "collapsed": false
   },
   "outputs": [
    {
     "name": "stdout",
     "output_type": "stream",
     "text": [
      "Prediction Accuracy:  0.07\n"
     ]
    }
   ],
   "source": [
    "svc_repet_fg = trainSVC('features/repet_foreground.csv')"
   ]
  },
  {
   "cell_type": "code",
   "execution_count": 35,
   "metadata": {
    "collapsed": false
   },
   "outputs": [
    {
     "name": "stdout",
     "output_type": "stream",
     "text": [
      "Prediction Accuracy:  0.18\n"
     ]
    }
   ],
   "source": [
    "svc_repet_bg = trainSVC('features/repet_background.csv')"
   ]
  },
  {
   "cell_type": "code",
   "execution_count": 36,
   "metadata": {
    "collapsed": false
   },
   "outputs": [
    {
     "name": "stdout",
     "output_type": "stream",
     "text": [
      "Prediction Accuracy:  0.11\n"
     ]
    }
   ],
   "source": [
    "svc_repet_both = trainSVC('features/repet_f_and_b.csv')"
   ]
  },
  {
   "cell_type": "code",
   "execution_count": null,
   "metadata": {
    "collapsed": true
   },
   "outputs": [],
   "source": []
  }
 ],
 "metadata": {
  "kernelspec": {
   "display_name": "Python 2",
   "language": "python",
   "name": "python2"
  },
  "language_info": {
   "codemirror_mode": {
    "name": "ipython",
    "version": 2
   },
   "file_extension": ".py",
   "mimetype": "text/x-python",
   "name": "python",
   "nbconvert_exporter": "python",
   "pygments_lexer": "ipython2",
   "version": "2.7.13"
  }
 },
 "nbformat": 4,
 "nbformat_minor": 2
}
