{
 "cells": [
  {
   "cell_type": "code",
   "execution_count": 1,
   "metadata": {
    "collapsed": false
   },
   "outputs": [],
   "source": [
    "import IPython, nussl, numpy as np, scipy as sp, matplotlib.pyplot as plt, matplotlib, sklearn, librosa, cmath,math,time,vamp\n",
    "from IPython.display import Audio, display\n",
    "from scipy.fftpack import fft, ifft\n",
    " \n",
    "# This line makes sure your plots happen IN the webpage you're building, instead of in separate windows.\n",
    "%matplotlib inline"
   ]
  },
  {
   "cell_type": "code",
   "execution_count": 2,
   "metadata": {
    "collapsed": false
   },
   "outputs": [],
   "source": [
    "n_fft = 2048\n",
    "hop_length = 512\n",
    "sr = 11025\n",
    "\n",
    "# get the signal\n",
    "signal0, sr = librosa.load(path='datasets/genres/blues/blues.00000.au', sr=sr)\n",
    "signal1, sr = librosa.load(path='datasets/genres/blues/blues.00001.au', sr=sr)\n",
    "background0, sr = librosa.load(path='datasets/genres-repet/blues/blues.background.00000.au', sr=sr)\n",
    "background1, sr = librosa.load(path='datasets/genres-repet/blues/blues.background.00001.au', sr=sr)\n",
    "foreground0, sr = librosa.load(path='datasets/genres-repet/blues/blues.foreground.00000.au', sr=sr)\n",
    "foreground1, sr = librosa.load(path='datasets/genres-repet/blues/blues.foreground.00001.au', sr=sr)\n",
    "harmonic0, sr = librosa.load(path='datasets/genres-hpss/blues/blues.harmonic.00000.au', sr=sr)\n",
    "harmonic1, sr = librosa.load(path='datasets/genres-hpss/blues/blues.harmonic.00001.au', sr=sr)\n",
    "percussive0, sr = librosa.load(path='datasets/genres-hpss/blues/blues.percussive.00000.au', sr=sr)\n",
    "percussive1, sr = librosa.load(path='datasets/genres-hpss/blues/blues.percussive.00001.au', sr=sr)"
   ]
  },
  {
   "cell_type": "code",
   "execution_count": 3,
   "metadata": {
    "collapsed": false
   },
   "outputs": [],
   "source": [
    "def meanAndStandardDeviationCentroid(signal, sample_rate, n_fft, hop_length):\n",
    "    \"\"\"\n",
    "    computes the mean and standard deviation centroid, given an audio vector of an audio file\n",
    "    \"\"\"\n",
    "    centroid = librosa.feature.spectral_centroid(signal, sr=sample_rate, n_fft=n_fft, hop_length=hop_length)\n",
    "    mean = np.mean(centroid)\n",
    "    standard_dev = np.std(centroid)\n",
    "    return mean, standard_dev\n",
    "    "
   ]
  },
  {
   "cell_type": "code",
   "execution_count": 4,
   "metadata": {
    "collapsed": false
   },
   "outputs": [],
   "source": [
    "def meanAndStandardDeviationRolloff(signal, sample_rate, n_fft, hop_length):\n",
    "    \"\"\"\n",
    "    computes the mean and standard deviation rolloff, given an audio vector of an audio file\n",
    "    \"\"\"\n",
    "    rolloff = librosa.feature.spectral_rolloff(signal, sr=sample_rate, n_fft=n_fft, hop_length=hop_length)\n",
    "    mean = np.mean(rolloff)\n",
    "    standard_dev = np.std(rolloff)\n",
    "    return mean, standard_dev"
   ]
  },
  {
   "cell_type": "code",
   "execution_count": 5,
   "metadata": {
    "collapsed": true
   },
   "outputs": [],
   "source": [
    "###     ask Preem about mean vs standard dev\n",
    "def ZeroCrossings(signal):\n",
    "    \"\"\"\n",
    "    computes zero crossings value of a signal\n",
    "    \"\"\"\n",
    "    zero_crossings = librosa.zero_crossings(signal)\n",
    "    \n",
    "    mean_crossings = np.sum(zero_crossings)/float(np.shape(zero_crossings)[0])\n",
    "    \n",
    "    "
   ]
  },
  {
   "cell_type": "code",
   "execution_count": 6,
   "metadata": {
    "collapsed": true
   },
   "outputs": [],
   "source": [
    "### ask Preem about flux\n",
    "def flux(signal):\n",
    "    return\n"
   ]
  },
  {
   "cell_type": "code",
   "execution_count": 7,
   "metadata": {
    "collapsed": true
   },
   "outputs": [],
   "source": [
    "### ask about speed of auto-correlation\n",
    "def autoCorrelation(signal):\n",
    "    \"\"\"\n",
    "    gets the auto-correlation of a given signal\n",
    "    \"\"\"\n",
    "    return librosa.autocorrelate(signal)"
   ]
  },
  {
   "cell_type": "code",
   "execution_count": 8,
   "metadata": {
    "collapsed": true
   },
   "outputs": [],
   "source": [
    "def acorr(x):\n",
    "    \"\"\"\n",
    "    Takes a 1D numpy array and returns the autocorrelation. \n",
    "    \n",
    "    Input Parameter:\n",
    "    ----------------\n",
    "    x: 1D numpy array of length Lx\n",
    "    \n",
    "    Ouput Parameter:\n",
    "    ----------------\n",
    "    x_acorr: 1D numpy array of length x_len containing the values of the autocorrelation function of x\n",
    "    \n",
    "    Note: the actual length of autocorrelation function is (2*x_len)-1, but since this function is symmetric\n",
    "          we can cut off (x_len)-1 samples and return one side of length x_len without losing information. \n",
    "    \"\"\"\n",
    "    \n",
    "    x_len=np.size(x)\n",
    "    x_pad=np.concatenate([x,np.zeros(x_len-1)])\n",
    "    x_acorr=ifft(np.abs(fft(x_pad))**2).real\n",
    "    x_acorr=x_acorr[0:x_len]\n",
    "    \n",
    "    x_acorr=x_acorr/(np.arange(x_len)[::-1]+1)  # normalize by the number of nonzero additions\n",
    "            \n",
    "    return x_acorr"
   ]
  },
  {
   "cell_type": "code",
   "execution_count": 9,
   "metadata": {
    "collapsed": false
   },
   "outputs": [
    {
     "name": "stdout",
     "output_type": "stream",
     "text": [
      "2.37922596931\n"
     ]
    }
   ],
   "source": [
    "start = time.time()\n",
    "x = acorr(signal0)\n",
    "end = time.time()\n",
    "print end-start"
   ]
  },
  {
   "cell_type": "code",
   "execution_count": 10,
   "metadata": {
    "collapsed": false
   },
   "outputs": [
    {
     "name": "stdout",
     "output_type": "stream",
     "text": [
      "0.719372987747\n"
     ]
    }
   ],
   "source": [
    "start = time.time()\n",
    "y = autoCorrelation(signal0)\n",
    "end = time.time()\n",
    "print end-start"
   ]
  },
  {
   "cell_type": "code",
   "execution_count": 11,
   "metadata": {
    "collapsed": false
   },
   "outputs": [
    {
     "name": "stdout",
     "output_type": "stream",
     "text": [
      "[ 0.01969004  0.01766139  0.0140713  ..., -0.00013504 -0.00040495\n",
      " -0.00036746]\n",
      "[  6.51537549e+03   5.84408203e+03   4.65612402e+03 ...,  -4.01451660e-04\n",
      "  -8.06020864e-04  -3.63343424e-04]\n"
     ]
    }
   ],
   "source": [
    "print x\n",
    "print y"
   ]
  },
  {
   "cell_type": "code",
   "execution_count": 12,
   "metadata": {
    "collapsed": false
   },
   "outputs": [
    {
     "data": {
      "text/plain": [
       "['beatroot-vamp:beatroot',\n",
       " 'nnls-chroma:chordino',\n",
       " 'nnls-chroma:nnls-chroma',\n",
       " 'nnls-chroma:tuning']"
      ]
     },
     "execution_count": 12,
     "metadata": {},
     "output_type": "execute_result"
    }
   ],
   "source": [
    "vamp.list_plugins()"
   ]
  },
  {
   "cell_type": "code",
   "execution_count": null,
   "metadata": {
    "collapsed": true
   },
   "outputs": [],
   "source": []
  }
 ],
 "metadata": {
  "kernelspec": {
   "display_name": "Python 2",
   "language": "python",
   "name": "python2"
  },
  "language_info": {
   "codemirror_mode": {
    "name": "ipython",
    "version": 2
   },
   "file_extension": ".py",
   "mimetype": "text/x-python",
   "name": "python",
   "nbconvert_exporter": "python",
   "pygments_lexer": "ipython2",
   "version": "2.7.13"
  }
 },
 "nbformat": 4,
 "nbformat_minor": 2
}
