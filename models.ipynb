{
 "cells": [
  {
   "cell_type": "code",
   "execution_count": 3,
   "metadata": {
    "collapsed": false
   },
   "outputs": [
    {
     "name": "stderr",
     "output_type": "stream",
     "text": [
      "/Users/olivergoodman/miniconda2/envs/eecs352/lib/python2.7/site-packages/matplotlib/font_manager.py:273: UserWarning: Matplotlib is building the font cache using fc-list. This may take a moment.\n",
      "  warnings.warn('Matplotlib is building the font cache using fc-list. This may take a moment.')\n"
     ]
    }
   ],
   "source": [
    "import IPython, nussl, numpy as np, scipy as sp, matplotlib.pyplot as plt, matplotlib, sklearn, librosa, cmath,math,time,vamp\n",
    "import os\n",
    "from IPython.display import Audio, display\n",
    "from scipy.fftpack import fft, ifft\n",
    "import csv\n",
    "from sklearn.neighbors import KNeighborsClassifier"
   ]
  },
  {
   "cell_type": "code",
   "execution_count": 11,
   "metadata": {
    "collapsed": true
   },
   "outputs": [],
   "source": [
    "from sklearn.naive_bayes import GaussianNB\n",
    "\n",
    "def trainGaussianNB(path_to_csv):\n",
    "    \"\"\"\n",
    "    given a path to the feature vector table (csv file)\n",
    "    returns a trained nearest neighbor model, the validation set and the testing (validation) target labels\n",
    "    \"\"\"\n",
    "    counter = 0\n",
    "    train = np.array([])\n",
    "    test = np.array([])\n",
    "    genres_train = np.array([])\n",
    "    genres_test = np.array([])\n",
    "    \n",
    "    # get csv data\n",
    "    csv = np.genfromtxt(path_to_csv, dtype='string', delimiter=',')\n",
    "    \n",
    "    # separate into vectors and labels\n",
    "    labels = csv[:,-1]\n",
    "    feature_vectors = csv[:,:-1].astype(float)\n",
    "    \n",
    "    train = feature_vectors[np.where(np.arange(feature_vectors.shape[0]) % 100 < 85)]\n",
    "    test = feature_vectors[np.where(np.arange(feature_vectors.shape[0]) % 100 >= 85)]\n",
    "    genres_train = labels[np.where(np.arange(labels.shape[0]) % 100 < 85)]\n",
    "    genres_test = labels[np.where(np.arange(labels.shape[0]) % 100 >= 85)]\n",
    "    \n",
    "    # train csv file\n",
    "    nn = GaussianNB()\n",
    "    nn.fit(train, genres_train) \n",
    "    \n",
    "    # output prediction accuracy\n",
    "    predictions = nn.predict(test)\n",
    "    count = 0\n",
    "    for i, prediction in enumerate(predictions):\n",
    "        if prediction == genres_test[i]:\n",
    "            count += 1\n",
    "    print \"Prediction Accuracy: \", float(count)/len(genres_test)\n",
    "\n",
    "    return nn, test, genres_train\n",
    "    \n"
   ]
  },
  {
   "cell_type": "code",
   "execution_count": 12,
   "metadata": {
    "collapsed": false
   },
   "outputs": [
    {
     "name": "stdout",
     "output_type": "stream",
     "text": [
      "Prediction Accuracy:  0.34\n"
     ]
    }
   ],
   "source": [
    "gnb_control, test_gnb_control, genres_train = trainGaussianNB('features/control.csv')"
   ]
  },
  {
   "cell_type": "code",
   "execution_count": 13,
   "metadata": {
    "collapsed": false
   },
   "outputs": [
    {
     "name": "stdout",
     "output_type": "stream",
     "text": [
      "Prediction Accuracy:  0.306666666667\n"
     ]
    }
   ],
   "source": [
    "gnb_hpss_percussive, test_hpss_percussive, genres_hpss_percussive = trainGaussianNB('features/hpss_percussive.csv')"
   ]
  },
  {
   "cell_type": "code",
   "execution_count": 15,
   "metadata": {
    "collapsed": false
   },
   "outputs": [
    {
     "name": "stdout",
     "output_type": "stream",
     "text": [
      "Prediction Accuracy:  0.306666666667\n"
     ]
    }
   ],
   "source": [
    "gnb_hpss_harmonic, test_hpss_harmonic, genres_hpss_harmonic = trainGaussianNB('features/hpss_harmonic.csv')"
   ]
  },
  {
   "cell_type": "code",
   "execution_count": 17,
   "metadata": {
    "collapsed": false
   },
   "outputs": [
    {
     "name": "stdout",
     "output_type": "stream",
     "text": [
      "Prediction Accuracy:  0.306666666667\n"
     ]
    }
   ],
   "source": [
    "gnb_repet_fg, test_repet_fg, genres_repet_fg = trainGaussianNB('features/repet_foreground.csv')"
   ]
  },
  {
   "cell_type": "code",
   "execution_count": 19,
   "metadata": {
    "collapsed": false
   },
   "outputs": [
    {
     "name": "stdout",
     "output_type": "stream",
     "text": [
      "Prediction Accuracy:  0.346666666667\n"
     ]
    }
   ],
   "source": [
    "gnb_repet_bg, test_repet_bg, genres_repet_bg = trainGaussianNB('features/repet_background.csv')"
   ]
  },
  {
   "cell_type": "code",
   "execution_count": 7,
   "metadata": {
    "collapsed": false
   },
   "outputs": [],
   "source": [
    "def trainNN(path_to_csv, num_neighbors):\n",
    "    \"\"\"\n",
    "    given a path to the feature vector table (csv file)\n",
    "    returns a trained nearest neighbor model, the validation set and the testing (validation) target labels\n",
    "    \"\"\"\n",
    "    counter = 0\n",
    "    train = np.array([])\n",
    "    test = np.array([])\n",
    "    genres_train = np.array([])\n",
    "    genres_test = np.array([])\n",
    "    \n",
    "    # get csv data\n",
    "    csv = np.genfromtxt(path_to_csv, dtype='string', delimiter=',')\n",
    "    \n",
    "    # separate into vectors and labels\n",
    "    labels = csv[:,-1]\n",
    "    feature_vectors = csv[:,:-1].astype(float)\n",
    "    \n",
    "    train = feature_vectors[np.where(np.arange(feature_vectors.shape[0]) % 100 < 85)]\n",
    "    test = feature_vectors[np.where(np.arange(feature_vectors.shape[0]) % 100 >= 85)]\n",
    "    genres_train = labels[np.where(np.arange(labels.shape[0]) % 100 < 85)]\n",
    "    genres_test = labels[np.where(np.arange(labels.shape[0]) % 100 >= 85)]\n",
    "    \n",
    "    # train csv file\n",
    "    nn = KNeighborsClassifier(n_neighbors=num_neighbors)\n",
    "    nn.fit(train, genres_train) \n",
    "    \n",
    "    # output prediction accuracy\n",
    "    predictions = nn.predict(test)\n",
    "    count = 0\n",
    "    for i, prediction in enumerate(predictions):\n",
    "        if prediction == genres_test[i]:\n",
    "            count += 1\n",
    "    print \"Prediction Accuracy: \", float(count)/len(genres_test)\n",
    "\n",
    "    return nn, test, genres_train\n",
    "    "
   ]
  },
  {
   "cell_type": "code",
   "execution_count": 8,
   "metadata": {
    "collapsed": false,
    "scrolled": false
   },
   "outputs": [
    {
     "name": "stdout",
     "output_type": "stream",
     "text": [
      "Prediction Accuracy:  0.293333333333\n"
     ]
    }
   ],
   "source": [
    "nn_control, test_control, genres_train_control = trainNN('features/control.csv', 4)"
   ]
  },
  {
   "cell_type": "code",
   "execution_count": 57,
   "metadata": {
    "collapsed": false
   },
   "outputs": [
    {
     "name": "stdout",
     "output_type": "stream",
     "text": [
      "Prediction Accuracy:  0.293333333333\n"
     ]
    }
   ],
   "source": [
    "nn_hpss_percussive, test_hpss_percussive, genres_hpss_percussive = trainNN('features/hpss_percussive.csv', 4)"
   ]
  },
  {
   "cell_type": "code",
   "execution_count": 58,
   "metadata": {
    "collapsed": false
   },
   "outputs": [
    {
     "name": "stdout",
     "output_type": "stream",
     "text": [
      "Prediction Accuracy:  0.306666666667\n"
     ]
    }
   ],
   "source": [
    "nn_hpss_harmonic, test_hpps_harmonic, genres_hpss_harmonic = trainNN('features/hpss_harmonic.csv', 4)"
   ]
  },
  {
   "cell_type": "code",
   "execution_count": 59,
   "metadata": {
    "collapsed": false
   },
   "outputs": [
    {
     "name": "stdout",
     "output_type": "stream",
     "text": [
      "Prediction Accuracy:  0.26\n"
     ]
    }
   ],
   "source": [
    "nn_repet_background, test_repet_background, genres_repet_background = trainNN('features/repet_background.csv', 4)"
   ]
  },
  {
   "cell_type": "code",
   "execution_count": 60,
   "metadata": {
    "collapsed": false
   },
   "outputs": [
    {
     "name": "stdout",
     "output_type": "stream",
     "text": [
      "Prediction Accuracy:  0.206666666667\n"
     ]
    }
   ],
   "source": [
    "nn_repet_foreground, test_repet_foreground, genres_repet_foreground = trainNN('features/repet_foreground.csv', 4)"
   ]
  },
  {
   "cell_type": "code",
   "execution_count": null,
   "metadata": {
    "collapsed": true
   },
   "outputs": [],
   "source": []
  }
 ],
 "metadata": {
  "kernelspec": {
   "display_name": "Python 2",
   "language": "python",
   "name": "python2"
  },
  "language_info": {
   "codemirror_mode": {
    "name": "ipython",
    "version": 2
   },
   "file_extension": ".py",
   "mimetype": "text/x-python",
   "name": "python",
   "nbconvert_exporter": "python",
   "pygments_lexer": "ipython2",
   "version": "2.7.13"
  }
 },
 "nbformat": 4,
 "nbformat_minor": 2
}
