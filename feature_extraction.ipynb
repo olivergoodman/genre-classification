{
 "cells": [
  {
   "cell_type": "code",
   "execution_count": 51,
   "metadata": {
    "collapsed": false
   },
   "outputs": [],
   "source": [
    "import IPython, nussl, numpy as np, scipy as sp, matplotlib.pyplot as plt, matplotlib, sklearn, librosa, cmath,math\n",
    "from IPython.display import Audio, display\n",
    "from scipy.fftpack import fft, ifft\n",
    " \n",
    "# This line makes sure your plots happen IN the webpage you're building, instead of in separate windows.\n",
    "%matplotlib inline"
   ]
  },
  {
   "cell_type": "code",
   "execution_count": 21,
   "metadata": {
    "collapsed": false
   },
   "outputs": [],
   "source": [
    "n_fft = 2048\n",
    "hop_length = 512\n",
    "sr = 22050\n",
    "\n",
    "# get the signal\n",
    "signal0, sr = librosa.load(path='datasets/development/blues/blues.00000.au', sr=sr)\n",
    "signal1, sr = librosa.load(path='datasets/development/blues/blues.00001.au', sr=sr)\n",
    "background0, sr = librosa.load(path='datasets/development/blues/blues.background.00000.au', sr=sr)\n",
    "background1, sr = librosa.load(path='datasets/development/blues/blues.background.00001.au', sr=sr)\n",
    "foreground0, sr = librosa.load(path='datasets/development/blues/blues.foreground.00000.au', sr=sr)\n",
    "foreground1, sr = librosa.load(path='datasets/development/blues/blues.foreground.00001.au', sr=sr)\n",
    "harmonic0, sr = librosa.load(path='datasets/development/blues/blues.harmonic.00000.au', sr=sr)\n",
    "harmonic1, sr = librosa.load(path='datasets/development/blues/blues.harmonic.00001.au', sr=sr)\n",
    "percussive0, sr = librosa.load(path='datasets/development/blues/blues.percussive.00000.au', sr=sr)\n",
    "percussive1, sr = librosa.load(path='datasets/development/blues/blues.percussive.00001.au', sr=sr)"
   ]
  },
  {
   "cell_type": "code",
   "execution_count": 22,
   "metadata": {
    "collapsed": false
   },
   "outputs": [],
   "source": [
    "def meanAndStandardDeviationCentroid(signal, sample_rate, n_fft, hop_length):\n",
    "    \"\"\"\n",
    "    computes the mean and standard deviation centroid, given an audio vector of an audio file\n",
    "    \"\"\"\n",
    "    centroid = librosa.feature.spectral_centroid(signal, sr=sample_rate, n_fft=n_fft, hop_length=hop_length)\n",
    "    mean = np.mean(centroid)\n",
    "    standard_dev = np.std(centroid)\n",
    "    return mean, standard_dev\n",
    "    "
   ]
  },
  {
   "cell_type": "code",
   "execution_count": 23,
   "metadata": {
    "collapsed": false
   },
   "outputs": [],
   "source": [
    "def meanAndStandardDeviationRolloff(signal, sample_rate, n_fft, hop_length):\n",
    "    \"\"\"\n",
    "    computes the mean and standard deviation rolloff, given an audio vector of an audio file\n",
    "    \"\"\"\n",
    "    rolloff = librosa.feature.spectral_rolloff(signal, sr=sample_rate, n_fft=n_fft, hop_length=hop_length)\n",
    "    mean = np.mean(rolloff)\n",
    "    standard_dev = np.std(rolloff)\n",
    "    return mean, mean"
   ]
  },
  {
   "cell_type": "code",
   "execution_count": 41,
   "metadata": {
    "collapsed": true
   },
   "outputs": [],
   "source": [
    "###     ask Preem about mean vs standard dev\n",
    "def ZeroCrossings(signal):\n",
    "    \"\"\"\n",
    "    computes zero crossings value of a signal\n",
    "    \"\"\"\n",
    "    zero_crossings = librosa.zero_crossings(signal)\n",
    "    \n",
    "    return np.sum(zero_crossings)\n",
    "    "
   ]
  },
  {
   "cell_type": "code",
   "execution_count": 43,
   "metadata": {
    "collapsed": true
   },
   "outputs": [],
   "source": [
    "### ask Preem about flux\n",
    "def flux(signal):\n",
    "    return\n"
   ]
  },
  {
   "cell_type": "code",
   "execution_count": 44,
   "metadata": {
    "collapsed": true
   },
   "outputs": [],
   "source": [
    "### ask about speed of auto-correlation\n",
    "def autoCorrelation(signal):\n",
    "    \"\"\"\n",
    "    gets the auto-correlation of a given signal\n",
    "    \"\"\"\n",
    "    return librosa.autocorrelate(signal)"
   ]
  },
  {
   "cell_type": "code",
   "execution_count": 52,
   "metadata": {
    "collapsed": true
   },
   "outputs": [],
   "source": [
    "def acorr(x):\n",
    "    \"\"\"\n",
    "    Takes a 1D numpy array and returns the autocorrelation. \n",
    "    \n",
    "    Input Parameter:\n",
    "    ----------------\n",
    "    x: 1D numpy array of length Lx\n",
    "    \n",
    "    Ouput Parameter:\n",
    "    ----------------\n",
    "    x_acorr: 1D numpy array of length x_len containing the values of the autocorrelation function of x\n",
    "    \n",
    "    Note: the actual length of autocorrelation function is (2*x_len)-1, but since this function is symmetric\n",
    "          we can cut off (x_len)-1 samples and return one side of length x_len without losing information. \n",
    "    \"\"\"\n",
    "    \n",
    "    x_len=np.size(x)\n",
    "    x_pad=np.concatenate([x,np.zeros(x_len-1)])\n",
    "    x_acorr=ifft(np.abs(fft(x_pad))**2).real\n",
    "    x_acorr=x_acorr[0:x_len]\n",
    "    \n",
    "    x_acorr=x_acorr/(np.arange(x_len)[::-1]+1)  # normalize by the number of nonzero additions\n",
    "            \n",
    "    return x_acorr"
   ]
  },
  {
   "cell_type": "code",
   "execution_count": 53,
   "metadata": {
    "collapsed": false
   },
   "outputs": [],
   "source": [
    "x = acorr(signal0)"
   ]
  },
  {
   "cell_type": "code",
   "execution_count": 54,
   "metadata": {
    "collapsed": false
   },
   "outputs": [],
   "source": [
    "y = autoCorrelation(signal0)"
   ]
  },
  {
   "cell_type": "code",
   "execution_count": 57,
   "metadata": {
    "collapsed": false
   },
   "outputs": [
    {
     "name": "stdout",
     "output_type": "stream",
     "text": [
      "[ 0.01979324  0.01908897  0.01759472 ..., -0.00063689 -0.00075636\n",
      " -0.00047006]\n",
      "[  1.30990469e+04   1.26329502e+04   1.16440469e+04 ...,  -1.91317627e-03\n",
      "  -1.51599583e-03  -4.74037020e-04]\n"
     ]
    }
   ],
   "source": [
    "print x\n",
    "print y"
   ]
  },
  {
   "cell_type": "code",
   "execution_count": null,
   "metadata": {
    "collapsed": true
   },
   "outputs": [],
   "source": []
  }
 ],
 "metadata": {
  "kernelspec": {
   "display_name": "Python 2",
   "language": "python",
   "name": "python2"
  },
  "language_info": {
   "codemirror_mode": {
    "name": "ipython",
    "version": 2
   },
   "file_extension": ".py",
   "mimetype": "text/x-python",
   "name": "python",
   "nbconvert_exporter": "python",
   "pygments_lexer": "ipython2",
   "version": "2.7.13"
  }
 },
 "nbformat": 4,
 "nbformat_minor": 2
}
