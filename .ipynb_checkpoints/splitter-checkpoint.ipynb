{
 "cells": [
  {
   "cell_type": "code",
   "execution_count": 38,
   "metadata": {
    "collapsed": true
   },
   "outputs": [],
   "source": [
    "import IPython, numpy as np, scipy as sp, matplotlib.pyplot as plt, matplotlib, sklearn, librosa, cmath,math,os.path,nussl\n",
    "from IPython.display import Audio, display\n",
    " \n",
    "# This line makes sure your plots happen IN the webpage you're building, instead of in separate windows.\n",
    "%matplotlib inline"
   ]
  },
  {
   "cell_type": "code",
   "execution_count": 39,
   "metadata": {
    "collapsed": false
   },
   "outputs": [
    {
     "name": "stderr",
     "output_type": "stream",
     "text": [
      "/Users/danielthomas/miniconda2/envs/eecs352/lib/python2.7/site-packages/librosa/util/utils.py:1478: RuntimeWarning: invalid value encountered in divide\n",
      "  mask /= mask + (X_ref / Z)**power\n"
     ]
    }
   ],
   "source": [
    "dirs = [d for d in os.listdir('datasets/genres') if os.path.isdir(os.path.join('datasets/genres', d))]\n",
    "directories = ['datasets/genres-hpss','datasets/genres-repet']\n",
    "for directory in directories:\n",
    "    if not os.path.exists(directory):\n",
    "        os.makedirs(directory)\n",
    "for name in dirs:\n",
    "    for directoryy in directories:\n",
    "        directory = directoryy + '/' + name\n",
    "        if not os.path.exists(directory):\n",
    "            os.makedirs(directory)\n",
    "    for i in range(0,100):\n",
    "        j = str(i)\n",
    "        if len(j) < 2:\n",
    "            j = '0' + j\n",
    "        dirr = 'datasets/genres/'+name+'/'+name+'.000'+j+'.au'\n",
    "        a,sr = librosa.load(dirr,sr=22050)\n",
    "        b_harmonic,b_percussive = librosa.effects.hpss(a)\n",
    "        librosa.output.write_wav('datasets/genres-hpss/'+name+'/'+name+'.'+'harmonic'+'.000'+j+'.au',b_harmonic,sr)\n",
    "        librosa.output.write_wav('datasets/genres-hpss/'+name+'/'+name+'.'+'percussive'+'.000'+j+'.au',b_percussive,sr)\n",
    "        signal = nussl.AudioSignal(path_to_input_file=dirr,sample_rate=22050)\n",
    "        rep = nussl.Repet(signal)\n",
    "        rep.run()\n",
    "        bkgd, fgnd = rep.make_audio_signals()\n",
    "        bkgd.write_audio_to_file('datasets/genres-repet/'+name+'/'+name+'.'+'background'+'.000'+j+'.au')\n",
    "        fgnd.write_audio_to_file('datasets/genres-repet/'+name+'/'+name+'.'+'foreground'+'.000'+j+'.au')"
   ]
  },
  {
   "cell_type": "code",
   "execution_count": null,
   "metadata": {
    "collapsed": false
   },
   "outputs": [],
   "source": []
  },
  {
   "cell_type": "code",
   "execution_count": null,
   "metadata": {
    "collapsed": false
   },
   "outputs": [],
   "source": []
  },
  {
   "cell_type": "code",
   "execution_count": null,
   "metadata": {
    "collapsed": false
   },
   "outputs": [],
   "source": []
  },
  {
   "cell_type": "code",
   "execution_count": null,
   "metadata": {
    "collapsed": false
   },
   "outputs": [],
   "source": []
  },
  {
   "cell_type": "code",
   "execution_count": null,
   "metadata": {
    "collapsed": false
   },
   "outputs": [],
   "source": []
  },
  {
   "cell_type": "code",
   "execution_count": null,
   "metadata": {
    "collapsed": true
   },
   "outputs": [],
   "source": []
  }
 ],
 "metadata": {
  "kernelspec": {
   "display_name": "Python 2",
   "language": "python",
   "name": "python2"
  },
  "language_info": {
   "codemirror_mode": {
    "name": "ipython",
    "version": 2
   },
   "file_extension": ".py",
   "mimetype": "text/x-python",
   "name": "python",
   "nbconvert_exporter": "python",
   "pygments_lexer": "ipython2",
   "version": "2.7.13"
  }
 },
 "nbformat": 4,
 "nbformat_minor": 2
}
