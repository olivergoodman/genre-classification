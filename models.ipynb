{
 "cells": [
  {
   "cell_type": "code",
   "execution_count": 1,
   "metadata": {
    "collapsed": false
   },
   "outputs": [
    {
     "name": "stderr",
     "output_type": "stream",
     "text": [
      "/Users/olivergoodman/miniconda2/envs/eecs352/lib/python2.7/site-packages/matplotlib/font_manager.py:273: UserWarning: Matplotlib is building the font cache using fc-list. This may take a moment.\n",
      "  warnings.warn('Matplotlib is building the font cache using fc-list. This may take a moment.')\n"
     ]
    }
   ],
   "source": [
    "import IPython, nussl, numpy as np, scipy as sp, matplotlib.pyplot as plt, matplotlib, sklearn, librosa, cmath,math,time,vamp\n",
    "import os\n",
    "from IPython.display import Audio, display\n",
    "from scipy.fftpack import fft, ifft\n",
    "import csv\n",
    "from sklearn.neighbors import KNeighborsClassifier"
   ]
  },
  {
   "cell_type": "code",
   "execution_count": 2,
   "metadata": {
    "collapsed": true
   },
   "outputs": [],
   "source": [
    "from sklearn.naive_bayes import GaussianNB\n",
    "\n",
    "def trainGaussianNB(path_to_csv):\n",
    "    \"\"\"\n",
    "    given a path to the feature vector table (csv file)\n",
    "    returns a trained nearest neighbor model, the validation set and the testing (validation) target labels\n",
    "    \"\"\"\n",
    "    counter = 0\n",
    "    train = []\n",
    "    test = []\n",
    "    genres_train = []\n",
    "    genres_test = []\n",
    "    \n",
    "    # open csv file, separate into training and testing data / training and testing target labels\n",
    "    with open(path_to_csv) as csvfile:\n",
    "        reader = csv.reader(csvfile)\n",
    "        for row in reader:\n",
    "            if (counter % 100) < 15:\n",
    "                test.append(row[:-1])\n",
    "                genres_test.append(row[-1])\n",
    "            else:\n",
    "                genres_train.append(row[-1])\n",
    "                train.append(row[:-1])\n",
    "            counter += 1\n",
    "    \n",
    "    # train csv file\n",
    "    gnb = GaussianNB()\n",
    "    gnb.fit(train, genres_train) \n",
    "    \n",
    "    # output prediction accuracy\n",
    "    predictions = gnb.predict(test)\n",
    "    count = 0\n",
    "    for i, prediction in enumerate(predictions):\n",
    "        if prediction == genres_test[i]:\n",
    "            count += 1\n",
    "    print \"Prediction Accuracy: \", float(count)/len(genres_test)\n",
    "\n",
    "    return gnb, test, genres_train\n",
    "    \n"
   ]
  },
  {
   "cell_type": "code",
   "execution_count": 46,
   "metadata": {
    "collapsed": false
   },
   "outputs": [],
   "source": [
    "def trainNN(path_to_csv, num_neighbors):\n",
    "    \"\"\"\n",
    "    given a path to the feature vector table (csv file)\n",
    "    returns a trained nearest neighbor model, the validation set and the testing (validation) target labels\n",
    "    \"\"\"\n",
    "    counter = 0\n",
    "    train = np.array([])\n",
    "    test = np.array([])\n",
    "    genres_train = np.array([])\n",
    "    genres_test = np.array([])\n",
    "    \n",
    "    # open csv file, separate into training and testing data / training and testing target labels\n",
    "#     with open(path_to_csv) as csvfile:\n",
    "#         reader = csv.reader(csvfile)\n",
    "#         for row in reader:\n",
    "#             if (counter % 100) < 15:\n",
    "#                 if test.size == 0:\n",
    "#                     test = np.array(row[:-1])\n",
    "#                 else:\n",
    "#                     test = np.concatenate((test, row[:-1]), axis=0)\n",
    "#                 genres_test = np.append(genres_test, row[-1])\n",
    "#             else:\n",
    "#                 if train.size == 0:\n",
    "#                     train = np.array(row[:-1])\n",
    "#                 else:\n",
    "#                     train = np.concatenate((train, row[:-1]), axis = 0)\n",
    "#                 genres_train = np.append(genres_train, row[-1])\n",
    "#             counter += 1\n",
    "    \n",
    "    # get csv data\n",
    "    csv = np.genfromtxt(path_to_csv, dtype='string', delimiter=',')\n",
    "    \n",
    "    # separate into vectors and labels\n",
    "    labels = csv[:,-1]\n",
    "    feature_vectors = csv[:,:-1].astype(float)\n",
    "    \n",
    "    train = feature_vectors[np.where(np.arange(feature_vectors.shape[0]) % 100 < 85)]\n",
    "    test = feature_vectors[np.where(np.arange(feature_vectors.shape[0]) % 100 >= 85)]\n",
    "    genres_train = labels[np.where(np.arange(labels.shape[0]) % 100 < 85)]\n",
    "    genres_test = labels[np.where(np.arange(labels.shape[0]) % 100 >= 85)]\n",
    "    \n",
    "    # train csv file\n",
    "    nn = KNeighborsClassifier(n_neighbors=num_neighbors)\n",
    "    nn.fit(train, genres_train) \n",
    "    \n",
    "    # output prediction accuracy\n",
    "    predictions = nn.predict(test)\n",
    "    count = 0\n",
    "    for i, prediction in enumerate(predictions):\n",
    "        if prediction == genres_test[i]:\n",
    "            count += 1\n",
    "    print \"Prediction Accuracy: \", float(count)/len(genres_test)\n",
    "\n",
    "    return nn, test, genres_train\n",
    "    "
   ]
  },
  {
   "cell_type": "code",
   "execution_count": 56,
   "metadata": {
    "collapsed": false,
    "scrolled": false
   },
   "outputs": [
    {
     "name": "stdout",
     "output_type": "stream",
     "text": [
      "Prediction Accuracy:  0.293333333333\n"
     ]
    }
   ],
   "source": [
    "nn_control, test_control, genres_train_control = trainNN('features/control.csv', 4)"
   ]
  },
  {
   "cell_type": "code",
   "execution_count": 57,
   "metadata": {
    "collapsed": false
   },
   "outputs": [
    {
     "name": "stdout",
     "output_type": "stream",
     "text": [
      "Prediction Accuracy:  0.293333333333\n"
     ]
    }
   ],
   "source": [
    "nn_hpss_percussive, test_hpss_percussive, genres_hpss_percussive = trainNN('features/hpss_percussive.csv', 4)"
   ]
  },
  {
   "cell_type": "code",
   "execution_count": 58,
   "metadata": {
    "collapsed": false
   },
   "outputs": [
    {
     "name": "stdout",
     "output_type": "stream",
     "text": [
      "Prediction Accuracy:  0.306666666667\n"
     ]
    }
   ],
   "source": [
    "nn_hpss_harmonic, test_hpps_harmonic, genres_hpss_harmonic = trainNN('features/hpss_harmonic.csv', 4)"
   ]
  },
  {
   "cell_type": "code",
   "execution_count": 59,
   "metadata": {
    "collapsed": false
   },
   "outputs": [
    {
     "name": "stdout",
     "output_type": "stream",
     "text": [
      "Prediction Accuracy:  0.26\n"
     ]
    }
   ],
   "source": [
    "nn_repet_background, test_repet_background, genres_repet_background = trainNN('features/repet_background.csv', 4)"
   ]
  },
  {
   "cell_type": "code",
   "execution_count": 60,
   "metadata": {
    "collapsed": false
   },
   "outputs": [
    {
     "name": "stdout",
     "output_type": "stream",
     "text": [
      "Prediction Accuracy:  0.206666666667\n"
     ]
    }
   ],
   "source": [
    "nn_repet_foreground, test_repet_foreground, genres_repet_foreground = trainNN('features/repet_foreground.csv', 4)"
   ]
  },
  {
   "cell_type": "code",
   "execution_count": null,
   "metadata": {
    "collapsed": true
   },
   "outputs": [],
   "source": []
  },
  {
   "cell_type": "code",
   "execution_count": null,
   "metadata": {
    "collapsed": false
   },
   "outputs": [],
   "source": [
    "### CONTROL ###\n",
    "\n",
    "counter = 0\n",
    "train = []\n",
    "test = []\n",
    "genres_train = []\n",
    "genres_test = []\n",
    "\n",
    "with open('features/development/control.csv') as csvfile:\n",
    "    reader = csv.reader(csvfile)\n",
    "    for row in reader:\n",
    "        if counter % 5 == 0:\n",
    "            test.append(row[:-1])\n",
    "            genres_test.append(row[-1])\n",
    "        else:\n",
    "            genres_train.append(row[-1])\n",
    "            train.append(row[:-1])\n",
    "        counter += 1\n",
    "\n",
    "\n",
    "nn_control = KNeighborsClassifier(n_neighbors=3)\n",
    "nn_control.fit(train, genres_train) \n",
    "\n",
    "\n",
    "\n",
    "predictions = nn_control.predict(test)\n",
    "validations = genres_test\n",
    "\n",
    "\n",
    "c = 0\n",
    "for i, p in enumerate(predictions):\n",
    "    if p == validations[i]:\n",
    "        c += 1\n",
    "\n",
    "print float(c)/len(validations)\n"
   ]
  },
  {
   "cell_type": "code",
   "execution_count": null,
   "metadata": {
    "collapsed": false
   },
   "outputs": [],
   "source": [
    "### HPSS - Harmonic ###\n",
    "\n",
    "counter = 0\n",
    "train = []\n",
    "test = []\n",
    "genres_train = []\n",
    "genres_test = []\n",
    "\n",
    "with open('features/development/hpss_harmonic.csv') as csvfile:\n",
    "    reader = csv.reader(csvfile)\n",
    "    for row in reader:\n",
    "        if counter % 5 == 0:\n",
    "            test.append(row[:-1])\n",
    "            genres_test.append(row[-1])\n",
    "        else:\n",
    "            genres_train.append(row[-1])\n",
    "            train.append(row[:-1])\n",
    "        counter += 1\n",
    "\n",
    "\n",
    "nn_hpss_harmonic = KNeighborsClassifier(n_neighbors=3)\n",
    "nn_hpss_harmonic.fit(train, genres_train) \n",
    "\n",
    "\n",
    "predictions = nn_hpss_harmonic.predict(test)\n",
    "validations = genres_test\n",
    "\n",
    "\n",
    "c = 0\n",
    "for i, p in enumerate(predictions):\n",
    "    if p == validations[i]:\n",
    "        c += 1\n",
    "\n",
    "print float(c)/len(validations)"
   ]
  },
  {
   "cell_type": "code",
   "execution_count": null,
   "metadata": {
    "collapsed": false
   },
   "outputs": [],
   "source": [
    "### HPSS - Percussive ###\n",
    "\n",
    "counter = 0\n",
    "train = []\n",
    "test = []\n",
    "genres_train = []\n",
    "genres_test = []\n",
    "\n",
    "with open('features/development/hpss_percussive.csv') as csvfile:\n",
    "    reader = csv.reader(csvfile)\n",
    "    for row in reader:\n",
    "        if counter % 5 == 0:\n",
    "            test.append(row[:-1])\n",
    "            genres_test.append(row[-1])\n",
    "        else:\n",
    "            genres_train.append(row[-1])\n",
    "            train.append(row[:-1])\n",
    "        counter += 1\n",
    "\n",
    "\n",
    "nn_hpss_percussive = KNeighborsClassifier(n_neighbors=3)\n",
    "nn_hpss_percussive.fit(train, genres_train) \n",
    "\n",
    "\n",
    "predictions = nn_hpss_percussive.predict(test)\n",
    "validations = genres_test\n",
    "\n",
    "\n",
    "c = 0\n",
    "for i, p in enumerate(predictions):\n",
    "    if p == validations[i]:\n",
    "        c += 1\n",
    "\n",
    "print float(c)/len(validations)\n",
    "\n"
   ]
  },
  {
   "cell_type": "code",
   "execution_count": null,
   "metadata": {
    "collapsed": false
   },
   "outputs": [],
   "source": [
    "### REPET - Foreground ###\n",
    "counter = 0\n",
    "train = []\n",
    "test = []\n",
    "genres_train = []\n",
    "genres_test = []\n",
    "\n",
    "with open('features/development/repet_foreground.csv') as csvfile:\n",
    "    reader = csv.reader(csvfile)\n",
    "    for row in reader:\n",
    "        if counter % 5 == 0:\n",
    "            test.append(row[:-1])\n",
    "            genres_test.append(row[-1])\n",
    "        else:\n",
    "            genres_train.append(row[-1])\n",
    "            train.append(row[:-1])\n",
    "        counter += 1\n",
    "\n",
    "\n",
    "repet_foreground = KNeighborsClassifier(n_neighbors=3)\n",
    "repet_foreground.fit(train, genres_train) \n",
    "\n",
    "\n",
    "predictions = repet_foreground.predict(test)\n",
    "validations = genres_test\n",
    "\n",
    "\n",
    "c = 0\n",
    "for i, p in enumerate(predictions):\n",
    "    if p == validations[i]:\n",
    "        c += 1\n",
    "\n",
    "print float(c)/len(validations)"
   ]
  },
  {
   "cell_type": "code",
   "execution_count": null,
   "metadata": {
    "collapsed": false
   },
   "outputs": [],
   "source": [
    "### REPET - Background ###\n",
    "counter = 0\n",
    "train = []\n",
    "test = []\n",
    "genres_train = []\n",
    "genres_test = []\n",
    "\n",
    "with open('features/development/repet_background.csv') as csvfile:\n",
    "    reader = csv.reader(csvfile)\n",
    "    for row in reader:\n",
    "        if counter % 5 == 0:\n",
    "            test.append(row[:-1])\n",
    "            genres_test.append(row[-1])\n",
    "        else:\n",
    "            genres_train.append(row[-1])\n",
    "            train.append(row[:-1])\n",
    "        counter += 1\n",
    "\n",
    "\n",
    "repet_background = KNeighborsClassifier(n_neighbors=3)\n",
    "repet_background.fit(train, genres_train) \n",
    "\n",
    "\n",
    "predictions = repet_background.predict(test)\n",
    "validations = genres_test\n",
    "\n",
    "\n",
    "c = 0\n",
    "for i, p in enumerate(predictions):\n",
    "    if p == validations[i]:\n",
    "        c += 1\n",
    "\n",
    "print float(c)/len(validations)"
   ]
  },
  {
   "cell_type": "code",
   "execution_count": null,
   "metadata": {
    "collapsed": true
   },
   "outputs": [],
   "source": []
  }
 ],
 "metadata": {
  "kernelspec": {
   "display_name": "Python 2",
   "language": "python",
   "name": "python2"
  },
  "language_info": {
   "codemirror_mode": {
    "name": "ipython",
    "version": 2
   },
   "file_extension": ".py",
   "mimetype": "text/x-python",
   "name": "python",
   "nbconvert_exporter": "python",
   "pygments_lexer": "ipython2",
   "version": "2.7.13"
  }
 },
 "nbformat": 4,
 "nbformat_minor": 2
}
