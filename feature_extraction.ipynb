{
 "cells": [
  {
   "cell_type": "code",
   "execution_count": 1,
   "metadata": {
    "collapsed": false
   },
   "outputs": [],
   "source": [
    "import IPython, nussl, numpy as np, scipy as sp, matplotlib.pyplot as plt, matplotlib, sklearn, librosa, cmath,math,time,vamp\n",
    "from IPython.display import Audio, display\n",
    "from scipy.fftpack import fft, ifft\n",
    " \n",
    "# This line makes sure your plots happen IN the webpage you're building, instead of in separate windows.\n",
    "%matplotlib inline"
   ]
  },
  {
   "cell_type": "code",
   "execution_count": 2,
   "metadata": {
    "collapsed": false
   },
   "outputs": [],
   "source": [
    "n_fft = 2048\n",
    "hop_length = 512\n",
    "sr = 11025\n",
    "\n",
    "# get the signal\n",
    "signal0, sr = librosa.load(path='datasets/genres/blues/blues.00000.au', sr=sr)\n",
    "signal1, sr = librosa.load(path='datasets/genres/blues/blues.00001.au', sr=sr)\n",
    "background0, sr = librosa.load(path='datasets/genres-repet/blues/blues.background.00000.au', sr=sr)\n",
    "background1, sr = librosa.load(path='datasets/genres-repet/blues/blues.background.00001.au', sr=sr)\n",
    "foreground0, sr = librosa.load(path='datasets/genres-repet/blues/blues.foreground.00000.au', sr=sr)\n",
    "foreground1, sr = librosa.load(path='datasets/genres-repet/blues/blues.foreground.00001.au', sr=sr)\n",
    "harmonic0, sr = librosa.load(path='datasets/genres-hpss/blues/blues.harmonic.00000.au', sr=sr)\n",
    "harmonic1, sr = librosa.load(path='datasets/genres-hpss/blues/blues.harmonic.00001.au', sr=sr)\n",
    "percussive0, sr = librosa.load(path='datasets/genres-hpss/blues/blues.percussive.00000.au', sr=sr)\n",
    "percussive1, sr = librosa.load(path='datasets/genres-hpss/blues/blues.percussive.00001.au', sr=sr)"
   ]
  },
  {
   "cell_type": "code",
   "execution_count": 3,
   "metadata": {
    "collapsed": false
   },
   "outputs": [
    {
     "data": {
      "text/plain": [
       "['bbc-vamp-plugins:bbc-energy',\n",
       " 'bbc-vamp-plugins:bbc-intensity',\n",
       " 'bbc-vamp-plugins:bbc-peaks',\n",
       " 'bbc-vamp-plugins:bbc-rhythm',\n",
       " 'bbc-vamp-plugins:bbc-spectral-contrast',\n",
       " 'bbc-vamp-plugins:bbc-spectral-flux',\n",
       " 'bbc-vamp-plugins:bbc-speechmusic-segmenter']"
      ]
     },
     "execution_count": 3,
     "metadata": {},
     "output_type": "execute_result"
    }
   ],
   "source": [
    "vamp.list_plugins()"
   ]
  },
  {
   "cell_type": "markdown",
   "metadata": {},
   "source": [
    "The following functions are used to calculates a 9 dimensional vector corresponding to the musical surface features outlined section 3.1 in Tzanetazis's Automatic Musical Genre Classification Of Audio Signals. The paper can be found by following the link below:\n",
    "http://www.cs.northwestern.edu/~pardo/courses/eecs352/papers/genre%20classification%20low%20level%20-%20tzanetakis.pdf"
   ]
  },
  {
   "cell_type": "code",
   "execution_count": 4,
   "metadata": {
    "collapsed": false
   },
   "outputs": [],
   "source": [
    "def meanAndStandardDeviationCentroid(signal, sample_rate):\n",
    "    \"\"\"\n",
    "    computes the mean and standard deviation centroid, given an audio vector of an audio file\n",
    "    \"\"\"\n",
    "    centroid = vamp.collect(signal,sample_rate,'vamp-libxtract:spectral_centroid')['vector'][1]\n",
    "    mean = np.mean(centroid)\n",
    "    standard_dev = np.std(centroid)\n",
    "    return mean, standard_dev\n",
    "\n",
    "def meanAndStandardDeviationRolloff(signal, sample_rate):\n",
    "    \"\"\"\n",
    "    computes the mean and standard deviation rolloff, given an audio vector of an audio file\n",
    "    \"\"\"\n",
    "    rolloff = vamp.collect(signal,sample_rate,'vamp-libxtract:rolloff')['vector'][1]\n",
    "    \n",
    "    mean = np.mean(rolloff)\n",
    "    standard_dev = np.std(rolloff)\n",
    "    return mean, standard_dev\n",
    "    \n",
    "def zeroCrossings(signal,sample_rate):\n",
    "    \"\"\"\n",
    "    computes zero crossings value of a signal\n",
    "    \"\"\"\n",
    "    zero_crossings = vamp.collect(signal,sample_rate,'vamp-libxtract:zcr')['vector'][1]\n",
    "    \n",
    "    mean = np.mean(zero_crossings)\n",
    "    standard_dev = np.std(zero_crossings)\n",
    "    return mean,standard_dev\n",
    "\n",
    "def flux(signal,sample_rate):\n",
    "    \"\"\"\n",
    "    computes the flux of a signal\n",
    "    \"\"\"\n",
    "    flux = vamp.collect(signal,sample_rate,'bbc-vamp-plugins:bbc-spectral-flux')['vector'][1]\n",
    "    \n",
    "    mean = np.mean(flux)\n",
    "    standard_dev = np.std(flux)\n",
    "    return mean,standard_dev\n",
    "\n",
    "def low_energy(signal,sample_rate):\n",
    "    \"\"\"\n",
    "    computes the low_energy value for a signal\n",
    "    \"\"\"\n",
    "    energy = a=vamp.collect(signal,sample_rate,'bbc-vamp-plugins:bbc-energy')['vector'][1]\n",
    "    \n",
    "    mean = np.mean(energy)\n",
    "    count = 0.\n",
    "    for el in energy:\n",
    "        if el < mean:\n",
    "            count += 1\n",
    "    return count/float(len(energy))\n",
    "\n",
    "def surface_features(signal, sample_rate):\n",
    "    \"\"\"\n",
    "    Calculates a 9 dimensional vector corresponding to the musical surface features outlined in Tzanetazis's Automatic Musical Genre Classification\n",
    "    Of Audio Signals\n",
    "    \"\"\"\n",
    "    mean_centroid,std_centroid = meanAndStandardDeviationCentroid(signal, sample_rate)\n",
    "    mean_rolloff,std_rolloff = meanAndStandardDeviationRolloff(signal, sample_rate)\n",
    "    mean_zcr,std_zcr = zeroCrossings(signal, sample_rate)\n",
    "    mean_flux,std_flux = flux(signal, sample_rate)\n",
    "    low_e = low_energy(signal, sample_rate)\n",
    "    surface_features = np.array([mean_centroid,std_centroid,mean_rolloff,std_rolloff,mean_zcr,std_zcr,mean_flux,std_flux,low_e])\n",
    "    return surface_features"
   ]
  },
  {
   "cell_type": "markdown",
   "metadata": {},
   "source": [
    "The following functions are used to calculate a 8 dimensional vector corresponding to the rhythmic features outlined section 3.2 in Tzanetazis's Automatic Musical Genre Classification Of Audio Signals."
   ]
  },
  {
   "cell_type": "code",
   "execution_count": 9,
   "metadata": {
    "collapsed": false
   },
   "outputs": [],
   "source": [
    "acor = vamp.collect(signal0,sr,'vamp-libxtract:autocorrelation')['matrix'][1]"
   ]
  },
  {
   "cell_type": "code",
   "execution_count": null,
   "metadata": {
    "collapsed": false
   },
   "outputs": [],
   "source": [
    "surface_features(signal0, sample_rate)"
   ]
  }
 ],
 "metadata": {
  "kernelspec": {
   "display_name": "Python 2",
   "language": "python",
   "name": "python2"
  },
  "language_info": {
   "codemirror_mode": {
    "name": "ipython",
    "version": 2
   },
   "file_extension": ".py",
   "mimetype": "text/x-python",
   "name": "python",
   "nbconvert_exporter": "python",
   "pygments_lexer": "ipython2",
   "version": "2.7.13"
  }
 },
 "nbformat": 4,
 "nbformat_minor": 2
}
